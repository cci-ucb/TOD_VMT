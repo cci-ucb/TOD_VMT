{
 "cells": [
  {
   "cell_type": "code",
   "execution_count": 10,
   "metadata": {},
   "outputs": [],
   "source": [
    "import numpy as np, pandas as pd\n",
    "from datascience import *\n",
    "\n",
    "%matplotlib inline\n",
    "import matplotlib.pyplot as plt\n",
    "plt.style.use('fivethirtyeight')\n",
    "\n",
    "tl = Table.read_table(\"TL_with_dist_10_10_JamesEdits.csv\")"
   ]
  },
  {
   "cell_type": "code",
   "execution_count": 2,
   "metadata": {},
   "outputs": [
    {
     "data": {
      "text/html": [
       "<table border=\"1\" class=\"dataframe\">\n",
       "    <thead>\n",
       "        <tr>\n",
       "            <th>Site</th> <th>Participant_ID</th> <th>Q69</th> <th>Date_bound_lower</th> <th>Date_bound_upper</th> <th>Trip_number</th> <th>Trip_ID</th> <th>Q2_1</th> <th>Q2_2</th> <th>Q2_3</th> <th>Q3</th> <th>Q3_1_TEXT</th> <th>Q3_2_TEXT</th> <th>Q65</th> <th>Q5_1</th> <th>Q5_2</th> <th>Q5_3</th> <th>Q10</th> <th>Q10_9_TEXT</th> <th>Q6</th> <th>Q6_1_TEXT</th> <th>Q6_2_TEXT</th> <th>Q7</th> <th>Q7_7_TEXT</th> <th>Q8</th> <th>State</th> <th>Origin_Latitude</th> <th>Origin_Longitude</th> <th>Origin_Accuracy Score</th> <th>Origin_Accuracy Type</th> <th>Origin_Number</th> <th>Origin_Street</th> <th>Origin_City</th> <th>Origin_State</th> <th>Origin_County</th> <th>Origin_Zip</th> <th>Origin_Country</th> <th>Origin_Source</th> <th>Latitude</th> <th>Longitude</th> <th>Accuracy Score</th> <th>Accuracy Type</th> <th>Number</th> <th>Street</th> <th>City</th> <th>State.1</th> <th>County</th> <th>Zip</th> <th>Country</th> <th>Source</th> <th>TOD?</th> <th>Placetype</th> <th>on e-mission server</th> <th>Date onboarded</th> <th>Time onboarded</th> <th>GSR</th> <th>RA onboarded</th> <th>Installed App? (y/n)</th> <th>Onboarding notes</th> <th>Offboarded? (1 = yes)</th> <th>Date offboarded</th> <th>Time offboarded</th> <th>GSR.1</th> <th>RA offboarded</th> <th>Downloaded app data?</th> <th>Offboarding notes</th> <th>GSR Lead</th> <th>Carol has contact?</th> <th>Status</th> <th>Within Half Mile of HQT? (TOD?)</th> <th>PDX Place Type</th> <th>Lat</th> <th>Long</th> <th>Notes</th> <th>Contact Name</th> <th>Phone # or email</th> <th>City_2</th> <th>Units with Subsidy</th> <th>PIS</th> <th>Management Company</th> <th>Developer</th> <th>Community room we can use?</th> <th>Wifi?</th> <th>Language Needs</th> <th>Total # Participants</th> <th>Double Check Participants_Survey</th> <th>Travel Log Total</th> <th>GSR Survey Lead</th> <th>Survey completed?</th> <th>Outreach touch point 1</th> <th>Outreach touch point 2</th> <th>Outreach touch point 3</th> <th>Notes.1</th> <th>Drove_Alone</th> <th>Drove_Share</th> <th>Bus</th> <th>Train</th> <th>Shuttle</th> <th>Walk</th> <th>Bike</th> <th>Taxi/Uber/Lyft</th> <th>Transit</th> <th>Drove_all</th> <th>Vehicle</th> <th>Home</th> <th>Work</th> <th>Education</th> <th>Shopping</th> <th>Meal</th> <th>Personal/Medical</th> <th>Social/Recreational</th> <th>Pick_up_drop_off</th> <th>URL</th> <th>Distance</th>\n",
       "        </tr>\n",
       "    </thead>\n",
       "    <tbody>\n",
       "        <tr>\n",
       "            <td>Alta Mira</td> <td>Alta1         </td> <td>4/4/2018 </td> <td>nan             </td> <td>nan             </td> <td>1          </td> <td>210    </td> <td>Alta Mira           </td> <td>28939 Mission Blvd.</td> <td>Hayward   </td> <td>PM: </td> <td>nan      </td> <td>4:00     </td> <td>nan </td> <td>GSO (work)       </td> <td>4601 Malat St         </td> <td>Oakland   </td> <td>Work               </td> <td>nan       </td> <td>PM: </td> <td>nan      </td> <td>6:00     </td> <td>Bus,Train   </td> <td>nan      </td> <td>0   </td> <td>CA   </td> <td>37.6351        </td> <td>-122.053        </td> <td>1                    </td> <td>rooftop             </td> <td>28939        </td> <td>Mission Blvd </td> <td>Hayward    </td> <td>CA          </td> <td>Alameda County</td> <td>94544     </td> <td>US            </td> <td>City of Hayward and Fairview. Licensed for Public Use</td> <td>37.7648 </td> <td>-122.221 </td> <td>1             </td> <td>rooftop      </td> <td>4601  </td> <td>Malat St          </td> <td>Oakland   </td> <td>CA     </td> <td>Alameda County</td> <td>94601</td> <td>US     </td> <td>Alameda County                                       </td> <td>1   </td> <td>Urban Neighborhood</td> <td>0                  </td> <td>30-Mar        </td> <td>3:30-5:30PM   </td> <td>James</td> <td>nan         </td> <td>N                   </td> <td>nan             </td> <td>1                    </td> <td>4/6/2018       </td> <td>3:30-5pm       </td> <td>Rebecca</td> <td>Juan         </td> <td>nan                 </td> <td>nan              </td> <td>James/Rebecca</td> <td>nan               </td> <td>Data Collection scheduled for 3/30</td> <td>Yes                            </td> <td>Urban Neighborhood</td> <td>37.6349</td> <td>-122.054</td> <td>nan  </td> <td>nan         </td> <td>shira.goldsmith@edenhousing.org</td> <td>nan   </td> <td>150               </td> <td>nan </td> <td>nan               </td> <td>Eden     </td> <td>nan                       </td> <td>nan  </td> <td>nan           </td> <td>10                  </td> <td>10                              </td> <td>nan             </td> <td>Rebecca        </td> <td>Y                </td> <td>16-Apr                </td> <td>nan                   </td> <td>nan                   </td> <td>nan    </td> <td>0          </td> <td>0          </td> <td>1   </td> <td>1    </td> <td>0      </td> <td>0   </td> <td>0   </td> <td>0             </td> <td>1      </td> <td>0        </td> <td>1      </td> <td>0   </td> <td>1   </td> <td>0        </td> <td>0       </td> <td>0   </td> <td>0               </td> <td>0                  </td> <td>0               </td> <td>https://maps.googleapis.com/maps/api/distancematrix/json ...</td> <td>23.8    </td>\n",
       "        </tr>\n",
       "        <tr>\n",
       "            <td>Alta Mira</td> <td>Alta1         </td> <td>4/4/2018 </td> <td>nan             </td> <td>nan             </td> <td>2          </td> <td>499    </td> <td>GSO (work)          </td> <td>4601 Malat St      </td> <td>Oakland   </td> <td>PM: </td> <td>nan      </td> <td>10:00    </td> <td>nan </td> <td>Alta Mira        </td> <td>28939 Mission Blvd.   </td> <td>Hayward   </td> <td>Home               </td> <td>nan       </td> <td>AM: </td> <td>10:45    </td> <td>nan      </td> <td>Bus,Train   </td> <td>nan      </td> <td>0   </td> <td>CA   </td> <td>37.7648        </td> <td>-122.221        </td> <td>1                    </td> <td>rooftop             </td> <td>4601         </td> <td>Malat St     </td> <td>Oakland    </td> <td>CA          </td> <td>Alameda County</td> <td>94601     </td> <td>US            </td> <td>Alameda County                                       </td> <td>37.6351 </td> <td>-122.053 </td> <td>1             </td> <td>rooftop      </td> <td>28939 </td> <td>Mission Blvd      </td> <td>Hayward   </td> <td>CA     </td> <td>Alameda County</td> <td>94544</td> <td>US     </td> <td>City of Hayward and Fairview. Licensed for Public Use</td> <td>1   </td> <td>Urban Neighborhood</td> <td>0                  </td> <td>30-Mar        </td> <td>3:30-5:30PM   </td> <td>James</td> <td>nan         </td> <td>N                   </td> <td>nan             </td> <td>1                    </td> <td>4/6/2018       </td> <td>3:30-5pm       </td> <td>Rebecca</td> <td>Juan         </td> <td>nan                 </td> <td>nan              </td> <td>James/Rebecca</td> <td>nan               </td> <td>Data Collection scheduled for 3/30</td> <td>Yes                            </td> <td>Urban Neighborhood</td> <td>37.6349</td> <td>-122.054</td> <td>nan  </td> <td>nan         </td> <td>shira.goldsmith@edenhousing.org</td> <td>nan   </td> <td>150               </td> <td>nan </td> <td>nan               </td> <td>Eden     </td> <td>nan                       </td> <td>nan  </td> <td>nan           </td> <td>10                  </td> <td>10                              </td> <td>nan             </td> <td>Rebecca        </td> <td>Y                </td> <td>16-Apr                </td> <td>nan                   </td> <td>nan                   </td> <td>nan    </td> <td>0          </td> <td>0          </td> <td>1   </td> <td>1    </td> <td>0      </td> <td>0   </td> <td>0   </td> <td>0             </td> <td>1      </td> <td>0        </td> <td>1      </td> <td>1   </td> <td>0   </td> <td>0        </td> <td>0       </td> <td>0   </td> <td>0               </td> <td>0                  </td> <td>0               </td> <td>https://maps.googleapis.com/maps/api/distancematrix/json ...</td> <td>23.8    </td>\n",
       "        </tr>\n",
       "        <tr>\n",
       "            <td>Alta Mira</td> <td>Dn22QF        </td> <td>3/31/2018</td> <td>nan             </td> <td>nan             </td> <td>1          </td> <td>214    </td> <td>Home                </td> <td>28939 mission Blv  </td> <td>Hayward   </td> <td>PM: </td> <td>nan      </td> <td>4:23     </td> <td>nan </td> <td>nan              </td> <td>Holly St and 96th St  </td> <td>Oakland   </td> <td>Social/Recreational</td> <td>nan       </td> <td>PM: </td> <td>nan      </td> <td>4:48     </td> <td>Drove alone </td> <td>nan      </td> <td>4   </td> <td>CA   </td> <td>37.6346        </td> <td>-122.053        </td> <td>1                    </td> <td>rooftop             </td> <td>28939        </td> <td>Mission Bl   </td> <td>Hayward    </td> <td>CA          </td> <td>Alameda County</td> <td>94544     </td> <td>US            </td> <td>Alameda County                                       </td> <td>37.7463 </td> <td>-122.17  </td> <td>1             </td> <td>intersection </td> <td>nan   </td> <td>96th Ave          </td> <td>Oakland   </td> <td>CA     </td> <td>Alameda County</td> <td>94603</td> <td>US     </td> <td>TIGER/Line® dataset from the US Census Bureau        </td> <td>1   </td> <td>Urban Neighborhood</td> <td>1                  </td> <td>30-Mar        </td> <td>3:30-5:30PM   </td> <td>James</td> <td>nan         </td> <td>N                   </td> <td>nan             </td> <td>1                    </td> <td>4/6/2018       </td> <td>3:30-5pm       </td> <td>Rebecca</td> <td>Jenny        </td> <td>nan                 </td> <td>nan              </td> <td>James/Rebecca</td> <td>nan               </td> <td>Data Collection scheduled for 3/30</td> <td>Yes                            </td> <td>Urban Neighborhood</td> <td>37.6349</td> <td>-122.054</td> <td>nan  </td> <td>nan         </td> <td>shira.goldsmith@edenhousing.org</td> <td>nan   </td> <td>150               </td> <td>nan </td> <td>nan               </td> <td>Eden     </td> <td>nan                       </td> <td>nan  </td> <td>nan           </td> <td>10                  </td> <td>10                              </td> <td>nan             </td> <td>Rebecca        </td> <td>Y                </td> <td>16-Apr                </td> <td>nan                   </td> <td>nan                   </td> <td>nan    </td> <td>1          </td> <td>0          </td> <td>0   </td> <td>0    </td> <td>0      </td> <td>0   </td> <td>0   </td> <td>0             </td> <td>0      </td> <td>1        </td> <td>1      </td> <td>0   </td> <td>0   </td> <td>0        </td> <td>0       </td> <td>0   </td> <td>0               </td> <td>1                  </td> <td>0               </td> <td>https://maps.googleapis.com/maps/api/distancematrix/json ...</td> <td>19      </td>\n",
       "        </tr>\n",
       "        <tr>\n",
       "            <td>Alta Mira</td> <td>LapWx5        </td> <td>5/4/2018 </td> <td>nan             </td> <td>nan             </td> <td>1          </td> <td>206    </td> <td>Home                </td> <td>28939 Mission Blvd </td> <td>Hayward   </td> <td>AM: </td> <td>8        </td> <td>nan      </td> <td>nan </td> <td>Global Supply    </td> <td>20628 Corsair bld     </td> <td>Hayward   </td> <td>Work               </td> <td>nan       </td> <td>AM: </td> <td>8:15     </td> <td>nan      </td> <td>Drove alone </td> <td>nan      </td> <td>0   </td> <td>CA   </td> <td>37.6351        </td> <td>-122.053        </td> <td>1                    </td> <td>rooftop             </td> <td>28939        </td> <td>Mission Blvd </td> <td>Hayward    </td> <td>CA          </td> <td>Alameda County</td> <td>94544     </td> <td>US            </td> <td>City of Hayward and Fairview. Licensed for Public Use</td> <td>37.659  </td> <td>-122.128 </td> <td>1             </td> <td>rooftop      </td> <td>20628 </td> <td>Corsair Bl        </td> <td>Hayward   </td> <td>CA     </td> <td>Alameda County</td> <td>94545</td> <td>US     </td> <td>Alameda County                                       </td> <td>1   </td> <td>Urban Neighborhood</td> <td>1                  </td> <td>30-Mar        </td> <td>3:30-5:30PM   </td> <td>James</td> <td>nan         </td> <td>N                   </td> <td>nan             </td> <td>1                    </td> <td>4/6/2018       </td> <td>3:30-5pm       </td> <td>Rebecca</td> <td>Jenny        </td> <td>nan                 </td> <td>nan              </td> <td>James/Rebecca</td> <td>nan               </td> <td>Data Collection scheduled for 3/30</td> <td>Yes                            </td> <td>Urban Neighborhood</td> <td>37.6349</td> <td>-122.054</td> <td>nan  </td> <td>nan         </td> <td>shira.goldsmith@edenhousing.org</td> <td>nan   </td> <td>150               </td> <td>nan </td> <td>nan               </td> <td>Eden     </td> <td>nan                       </td> <td>nan  </td> <td>nan           </td> <td>10                  </td> <td>10                              </td> <td>nan             </td> <td>Rebecca        </td> <td>Y                </td> <td>16-Apr                </td> <td>nan                   </td> <td>nan                   </td> <td>nan    </td> <td>1          </td> <td>0          </td> <td>0   </td> <td>0    </td> <td>0      </td> <td>0   </td> <td>0   </td> <td>0             </td> <td>0      </td> <td>1        </td> <td>1      </td> <td>0   </td> <td>1   </td> <td>0        </td> <td>0       </td> <td>0   </td> <td>0               </td> <td>0                  </td> <td>0               </td> <td>https://maps.googleapis.com/maps/api/distancematrix/json ...</td> <td>9.9     </td>\n",
       "        </tr>\n",
       "        <tr>\n",
       "            <td>Alta Mira</td> <td>LapWx5        </td> <td>5/4/2018 </td> <td>nan             </td> <td>nan             </td> <td>2          </td> <td>495    </td> <td>Global Supply       </td> <td>20628 Corsair bld  </td> <td>Hayward   </td> <td>PM: </td> <td>nan      </td> <td>5:30     </td> <td>nan </td> <td>Home             </td> <td>28939 Mission Blvd    </td> <td>Hayward   </td> <td>Home               </td> <td>nan       </td> <td>PM: </td> <td>nan      </td> <td>5:50     </td> <td>Drove alone </td> <td>nan      </td> <td>0   </td> <td>CA   </td> <td>37.659         </td> <td>-122.128        </td> <td>1                    </td> <td>rooftop             </td> <td>20628        </td> <td>Corsair Bl   </td> <td>Hayward    </td> <td>CA          </td> <td>Alameda County</td> <td>94545     </td> <td>US            </td> <td>Alameda County                                       </td> <td>37.6351 </td> <td>-122.053 </td> <td>1             </td> <td>rooftop      </td> <td>28939 </td> <td>Mission Blvd      </td> <td>Hayward   </td> <td>CA     </td> <td>Alameda County</td> <td>94544</td> <td>US     </td> <td>City of Hayward and Fairview. Licensed for Public Use</td> <td>1   </td> <td>Urban Neighborhood</td> <td>1                  </td> <td>30-Mar        </td> <td>3:30-5:30PM   </td> <td>James</td> <td>nan         </td> <td>N                   </td> <td>nan             </td> <td>1                    </td> <td>4/6/2018       </td> <td>3:30-5pm       </td> <td>Rebecca</td> <td>Jenny        </td> <td>nan                 </td> <td>nan              </td> <td>James/Rebecca</td> <td>nan               </td> <td>Data Collection scheduled for 3/30</td> <td>Yes                            </td> <td>Urban Neighborhood</td> <td>37.6349</td> <td>-122.054</td> <td>nan  </td> <td>nan         </td> <td>shira.goldsmith@edenhousing.org</td> <td>nan   </td> <td>150               </td> <td>nan </td> <td>nan               </td> <td>Eden     </td> <td>nan                       </td> <td>nan  </td> <td>nan           </td> <td>10                  </td> <td>10                              </td> <td>nan             </td> <td>Rebecca        </td> <td>Y                </td> <td>16-Apr                </td> <td>nan                   </td> <td>nan                   </td> <td>nan    </td> <td>1          </td> <td>0          </td> <td>0   </td> <td>0    </td> <td>0      </td> <td>0   </td> <td>0   </td> <td>0             </td> <td>0      </td> <td>1        </td> <td>1      </td> <td>1   </td> <td>0   </td> <td>0        </td> <td>0       </td> <td>0   </td> <td>0               </td> <td>0                  </td> <td>0               </td> <td>https://maps.googleapis.com/maps/api/distancematrix/json ...</td> <td>9.5     </td>\n",
       "        </tr>\n",
       "        <tr>\n",
       "            <td>Alta Mira</td> <td>W6zxrH        </td> <td>4/3/2018 </td> <td>nan             </td> <td>nan             </td> <td>1          </td> <td>212    </td> <td>Alta Mira Apartments</td> <td>28939 Mission Blvd </td> <td>Hayward   </td> <td>AM: </td> <td>11:00    </td> <td>nan      </td> <td>nan </td> <td>Food Max         </td> <td>30073 Industrial Pkwy </td> <td>Union City</td> <td>Shopping           </td> <td>nan       </td> <td>AM: </td> <td>11:20    </td> <td>nan      </td> <td>Drove alone </td> <td>nan      </td> <td>2   </td> <td>CA   </td> <td>37.6351        </td> <td>-122.053        </td> <td>1                    </td> <td>rooftop             </td> <td>28939        </td> <td>Mission Blvd </td> <td>Hayward    </td> <td>CA          </td> <td>Alameda County</td> <td>94544     </td> <td>US            </td> <td>City of Hayward and Fairview. Licensed for Public Use</td> <td>37.6127 </td> <td>-122.067 </td> <td>0.8           </td> <td>rooftop      </td> <td>30073 </td> <td>Industrial Pkwy SW</td> <td>Union City</td> <td>CA     </td> <td>Alameda County</td> <td>94587</td> <td>US     </td> <td>City of Hayward and Fairview. Licensed for Public Use</td> <td>1   </td> <td>Urban Neighborhood</td> <td>1                  </td> <td>30-Mar        </td> <td>3:30-5:30PM   </td> <td>James</td> <td>nan         </td> <td>N                   </td> <td>nan             </td> <td>1                    </td> <td>4/6/2018       </td> <td>3:30-5pm       </td> <td>Rebecca</td> <td>Brittani     </td> <td>nan                 </td> <td>nan              </td> <td>James/Rebecca</td> <td>nan               </td> <td>Data Collection scheduled for 3/30</td> <td>Yes                            </td> <td>Urban Neighborhood</td> <td>37.6349</td> <td>-122.054</td> <td>nan  </td> <td>nan         </td> <td>shira.goldsmith@edenhousing.org</td> <td>nan   </td> <td>150               </td> <td>nan </td> <td>nan               </td> <td>Eden     </td> <td>nan                       </td> <td>nan  </td> <td>nan           </td> <td>10                  </td> <td>10                              </td> <td>nan             </td> <td>Rebecca        </td> <td>Y                </td> <td>16-Apr                </td> <td>nan                   </td> <td>nan                   </td> <td>nan    </td> <td>1          </td> <td>0          </td> <td>0   </td> <td>0    </td> <td>0      </td> <td>0   </td> <td>0   </td> <td>0             </td> <td>0      </td> <td>1        </td> <td>1      </td> <td>0   </td> <td>0   </td> <td>0        </td> <td>1       </td> <td>0   </td> <td>0               </td> <td>0                  </td> <td>0               </td> <td>https://maps.googleapis.com/maps/api/distancematrix/json ...</td> <td>3.5     </td>\n",
       "        </tr>\n",
       "        <tr>\n",
       "            <td>Alta Mira</td> <td>YPGm7S        </td> <td>4/2/2018 </td> <td>nan             </td> <td>nan             </td> <td>1          </td> <td>209    </td> <td>Home                </td> <td>28939 Mission Blvd </td> <td>Hayward   </td> <td>PM: </td> <td>nan      </td> <td>1:20     </td> <td>nan </td> <td>Ikea             </td> <td>4400 Shellmound St    </td> <td>Emeryville</td> <td>Shopping           </td> <td>nan       </td> <td>PM: </td> <td>nan      </td> <td>2:20     </td> <td>Drove alone </td> <td>nan      </td> <td>5+  </td> <td>CA   </td> <td>37.6351        </td> <td>-122.053        </td> <td>1                    </td> <td>rooftop             </td> <td>28939        </td> <td>Mission Blvd </td> <td>Hayward    </td> <td>CA          </td> <td>Alameda County</td> <td>94544     </td> <td>US            </td> <td>City of Hayward and Fairview. Licensed for Public Use</td> <td>37.8302 </td> <td>-122.292 </td> <td>1             </td> <td>rooftop      </td> <td>4400  </td> <td>Shellmound St     </td> <td>Emeryville</td> <td>CA     </td> <td>Alameda County</td> <td>94608</td> <td>US     </td> <td>Alameda County                                       </td> <td>1   </td> <td>Urban Neighborhood</td> <td>1                  </td> <td>30-Mar        </td> <td>3:30-5:30PM   </td> <td>James</td> <td>nan         </td> <td>N                   </td> <td>nan             </td> <td>1                    </td> <td>4/6/2018       </td> <td>3:30-5pm       </td> <td>Rebecca</td> <td>Jenny        </td> <td>nan                 </td> <td>nan              </td> <td>James/Rebecca</td> <td>nan               </td> <td>Data Collection scheduled for 3/30</td> <td>Yes                            </td> <td>Urban Neighborhood</td> <td>37.6349</td> <td>-122.054</td> <td>nan  </td> <td>nan         </td> <td>shira.goldsmith@edenhousing.org</td> <td>nan   </td> <td>150               </td> <td>nan </td> <td>nan               </td> <td>Eden     </td> <td>nan                       </td> <td>nan  </td> <td>nan           </td> <td>10                  </td> <td>10                              </td> <td>nan             </td> <td>Rebecca        </td> <td>Y                </td> <td>16-Apr                </td> <td>nan                   </td> <td>nan                   </td> <td>nan    </td> <td>1          </td> <td>0          </td> <td>0   </td> <td>0    </td> <td>0      </td> <td>0   </td> <td>0   </td> <td>0             </td> <td>0      </td> <td>1        </td> <td>1      </td> <td>0   </td> <td>0   </td> <td>0        </td> <td>1       </td> <td>0   </td> <td>0               </td> <td>0                  </td> <td>0               </td> <td>https://maps.googleapis.com/maps/api/distancematrix/json ...</td> <td>34.6    </td>\n",
       "        </tr>\n",
       "        <tr>\n",
       "            <td>Alta Mira</td> <td>YPGm7S        </td> <td>4/2/2018 </td> <td>nan             </td> <td>nan             </td> <td>2          </td> <td>498    </td> <td>Ikea                </td> <td>4400 Shellmound St </td> <td>Emeryville</td> <td>PM: </td> <td>nan      </td> <td>4:40     </td> <td>nan </td> <td>Home             </td> <td>28939 Mission Blvd    </td> <td>Hayward   </td> <td>Home               </td> <td>nan       </td> <td>PM: </td> <td>nan      </td> <td>5:50     </td> <td>Drove alone </td> <td>nan      </td> <td>5+  </td> <td>CA   </td> <td>37.8302        </td> <td>-122.292        </td> <td>1                    </td> <td>rooftop             </td> <td>4400         </td> <td>Shellmound St</td> <td>Emeryville </td> <td>CA          </td> <td>Alameda County</td> <td>94608     </td> <td>US            </td> <td>Alameda County                                       </td> <td>37.6351 </td> <td>-122.053 </td> <td>1             </td> <td>rooftop      </td> <td>28939 </td> <td>Mission Blvd      </td> <td>Hayward   </td> <td>CA     </td> <td>Alameda County</td> <td>94544</td> <td>US     </td> <td>City of Hayward and Fairview. Licensed for Public Use</td> <td>1   </td> <td>Urban Neighborhood</td> <td>1                  </td> <td>30-Mar        </td> <td>3:30-5:30PM   </td> <td>James</td> <td>nan         </td> <td>N                   </td> <td>nan             </td> <td>1                    </td> <td>4/6/2018       </td> <td>3:30-5pm       </td> <td>Rebecca</td> <td>Jenny        </td> <td>nan                 </td> <td>nan              </td> <td>James/Rebecca</td> <td>nan               </td> <td>Data Collection scheduled for 3/30</td> <td>Yes                            </td> <td>Urban Neighborhood</td> <td>37.6349</td> <td>-122.054</td> <td>nan  </td> <td>nan         </td> <td>shira.goldsmith@edenhousing.org</td> <td>nan   </td> <td>150               </td> <td>nan </td> <td>nan               </td> <td>Eden     </td> <td>nan                       </td> <td>nan  </td> <td>nan           </td> <td>10                  </td> <td>10                              </td> <td>nan             </td> <td>Rebecca        </td> <td>Y                </td> <td>16-Apr                </td> <td>nan                   </td> <td>nan                   </td> <td>nan    </td> <td>1          </td> <td>0          </td> <td>0   </td> <td>0    </td> <td>0      </td> <td>0   </td> <td>0   </td> <td>0             </td> <td>0      </td> <td>1        </td> <td>1      </td> <td>1   </td> <td>0   </td> <td>0        </td> <td>0       </td> <td>0   </td> <td>0               </td> <td>0                  </td> <td>0               </td> <td>https://maps.googleapis.com/maps/api/distancematrix/json ...</td> <td>34.9    </td>\n",
       "        </tr>\n",
       "        <tr>\n",
       "            <td>Alta Mira</td> <td>q3R8pg        </td> <td>4/3/2018 </td> <td>nan             </td> <td>nan             </td> <td>1          </td> <td>213    </td> <td>Alta Mira           </td> <td>28939 Mission Blvd </td> <td>Hayward   </td> <td>PM: </td> <td>nan      </td> <td>4:10     </td> <td>nan </td> <td>Bus Stop         </td> <td>29131 Mission Blvd    </td> <td>Hayward   </td> <td>Other:             </td> <td>nan       </td> <td>PM: </td> <td>nan      </td> <td>4:20     </td> <td>Walk        </td> <td>nan      </td> <td>3   </td> <td>CA   </td> <td>37.6351        </td> <td>-122.053        </td> <td>1                    </td> <td>rooftop             </td> <td>28939        </td> <td>Mission Blvd </td> <td>Hayward    </td> <td>CA          </td> <td>Alameda County</td> <td>94544     </td> <td>US            </td> <td>City of Hayward and Fairview. Licensed for Public Use</td> <td>37.6334 </td> <td>-122.052 </td> <td>1             </td> <td>rooftop      </td> <td>29131 </td> <td>Mission Blvd      </td> <td>Hayward   </td> <td>CA     </td> <td>Alameda County</td> <td>94544</td> <td>US     </td> <td>City of Hayward and Fairview. Licensed for Public Use</td> <td>1   </td> <td>Urban Neighborhood</td> <td>1                  </td> <td>30-Mar        </td> <td>3:30-5:30PM   </td> <td>James</td> <td>nan         </td> <td>N                   </td> <td>nan             </td> <td>1                    </td> <td>4/6/2018       </td> <td>3:30-5pm       </td> <td>Rebecca</td> <td>Rebecca      </td> <td>nan                 </td> <td>nan              </td> <td>James/Rebecca</td> <td>nan               </td> <td>Data Collection scheduled for 3/30</td> <td>Yes                            </td> <td>Urban Neighborhood</td> <td>37.6349</td> <td>-122.054</td> <td>nan  </td> <td>nan         </td> <td>shira.goldsmith@edenhousing.org</td> <td>nan   </td> <td>150               </td> <td>nan </td> <td>nan               </td> <td>Eden     </td> <td>nan                       </td> <td>nan  </td> <td>nan           </td> <td>10                  </td> <td>10                              </td> <td>nan             </td> <td>Rebecca        </td> <td>Y                </td> <td>16-Apr                </td> <td>nan                   </td> <td>nan                   </td> <td>nan    </td> <td>0          </td> <td>0          </td> <td>0   </td> <td>0    </td> <td>0      </td> <td>1   </td> <td>0   </td> <td>0             </td> <td>0      </td> <td>0        </td> <td>0      </td> <td>0   </td> <td>0   </td> <td>0        </td> <td>0       </td> <td>0   </td> <td>0               </td> <td>0                  </td> <td>0               </td> <td>https://maps.googleapis.com/maps/api/distancematrix/json ...</td> <td>0.2     </td>\n",
       "        </tr>\n",
       "        <tr>\n",
       "            <td>Alta Mira</td> <td>qA9Xwg        </td> <td>4/2/2018 </td> <td>nan             </td> <td>nan             </td> <td>1          </td> <td>208    </td> <td>Alta Mira Apartments</td> <td>28939 Mission Blvd </td> <td>Hayward   </td> <td>AM: </td> <td>9:45     </td> <td>nan      </td> <td>nan </td> <td>Highland Hospital</td> <td>1411 East 31st Street </td> <td>Oakland   </td> <td>Personal/Medical   </td> <td>nan       </td> <td>AM: </td> <td>10:30    </td> <td>nan      </td> <td>Free shuttle</td> <td>nan      </td> <td>0   </td> <td>CA   </td> <td>37.6351        </td> <td>-122.053        </td> <td>1                    </td> <td>rooftop             </td> <td>28939        </td> <td>Mission Blvd </td> <td>Hayward    </td> <td>CA          </td> <td>Alameda County</td> <td>94544     </td> <td>US            </td> <td>City of Hayward and Fairview. Licensed for Public Use</td> <td>37.7983 </td> <td>-122.232 </td> <td>1             </td> <td>rooftop      </td> <td>1411  </td> <td>E 31st St         </td> <td>Oakland   </td> <td>CA     </td> <td>Alameda County</td> <td>94602</td> <td>US     </td> <td>Alameda County                                       </td> <td>1   </td> <td>Urban Neighborhood</td> <td>0                  </td> <td>30-Mar        </td> <td>3:30-5:30PM   </td> <td>James</td> <td>nan         </td> <td>N                   </td> <td>nan             </td> <td>1                    </td> <td>4/6/2018       </td> <td>3:30-5pm       </td> <td>Rebecca</td> <td>Brittani     </td> <td>nan                 </td> <td>nan              </td> <td>James/Rebecca</td> <td>nan               </td> <td>Data Collection scheduled for 3/30</td> <td>Yes                            </td> <td>Urban Neighborhood</td> <td>37.6349</td> <td>-122.054</td> <td>nan  </td> <td>nan         </td> <td>shira.goldsmith@edenhousing.org</td> <td>nan   </td> <td>150               </td> <td>nan </td> <td>nan               </td> <td>Eden     </td> <td>nan                       </td> <td>nan  </td> <td>nan           </td> <td>10                  </td> <td>10                              </td> <td>nan             </td> <td>Rebecca        </td> <td>Y                </td> <td>16-Apr                </td> <td>nan                   </td> <td>nan                   </td> <td>nan    </td> <td>0          </td> <td>0          </td> <td>0   </td> <td>0    </td> <td>1      </td> <td>0   </td> <td>0   </td> <td>0             </td> <td>1      </td> <td>0        </td> <td>1      </td> <td>0   </td> <td>0   </td> <td>0        </td> <td>0       </td> <td>0   </td> <td>1               </td> <td>0                  </td> <td>0               </td> <td>https://maps.googleapis.com/maps/api/distancematrix/json ...</td> <td>27      </td>\n",
       "        </tr>\n",
       "    </tbody>\n",
       "</table>\n",
       "<p>... (1329 rows omitted)</p>"
      ],
      "text/plain": [
       "Site      | Participant_ID | Q69       | Date_bound_lower | Date_bound_upper | Trip_number | Trip_ID | Q2_1                 | Q2_2                | Q2_3       | Q3   | Q3_1_TEXT | Q3_2_TEXT | Q65  | Q5_1              | Q5_2                   | Q5_3       | Q10                 | Q10_9_TEXT | Q6   | Q6_1_TEXT | Q6_2_TEXT | Q7           | Q7_7_TEXT | Q8   | State | Origin_Latitude | Origin_Longitude | Origin_Accuracy Score | Origin_Accuracy Type | Origin_Number | Origin_Street | Origin_City | Origin_State | Origin_County  | Origin_Zip | Origin_Country | Origin_Source                                         | Latitude | Longitude | Accuracy Score | Accuracy Type | Number | Street             | City       | State.1 | County         | Zip   | Country | Source                                                | TOD? | Placetype          | on e-mission server | Date onboarded | Time onboarded | GSR   | RA onboarded | Installed App? (y/n) | Onboarding notes | Offboarded? (1 = yes) | Date offboarded | Time offboarded | GSR.1   | RA offboarded | Downloaded app data? | Offboarding notes | GSR Lead      | Carol has contact? | Status                             | Within Half Mile of HQT? (TOD?) | PDX Place Type     | Lat     | Long     | Notes | Contact Name | Phone # or email                | City_2 | Units with Subsidy | PIS  | Management Company | Developer | Community room we can use? | Wifi? | Language Needs | Total # Participants | Double Check Participants_Survey | Travel Log Total | GSR Survey Lead | Survey completed? | Outreach touch point 1 | Outreach touch point 2 | Outreach touch point 3 | Notes.1 | Drove_Alone | Drove_Share | Bus  | Train | Shuttle | Walk | Bike | Taxi/Uber/Lyft | Transit | Drove_all | Vehicle | Home | Work | Education | Shopping | Meal | Personal/Medical | Social/Recreational | Pick_up_drop_off | URL                                                          | Distance\n",
       "Alta Mira | Alta1          | 4/4/2018  | nan              | nan              | 1           | 210     | Alta Mira            | 28939 Mission Blvd. | Hayward    | PM:  | nan       | 4:00      | nan  | GSO (work)        | 4601 Malat St          | Oakland    | Work                | nan        | PM:  | nan       | 6:00      | Bus,Train    | nan       | 0    | CA    | 37.6351         | -122.053         | 1                     | rooftop              | 28939         | Mission Blvd  | Hayward     | CA           | Alameda County | 94544      | US             | City of Hayward and Fairview. Licensed for Public Use | 37.7648  | -122.221  | 1              | rooftop       | 4601   | Malat St           | Oakland    | CA      | Alameda County | 94601 | US      | Alameda County                                        | 1    | Urban Neighborhood | 0                   | 30-Mar         | 3:30-5:30PM    | James | nan          | N                    | nan              | 1                     | 4/6/2018        | 3:30-5pm        | Rebecca | Juan          | nan                  | nan               | James/Rebecca | nan                | Data Collection scheduled for 3/30 | Yes                             | Urban Neighborhood | 37.6349 | -122.054 | nan   | nan          | shira.goldsmith@edenhousing.org | nan    | 150                | nan  | nan                | Eden      | nan                        | nan   | nan            | 10                   | 10                               | nan              | Rebecca         | Y                 | 16-Apr                 | nan                    | nan                    | nan     | 0           | 0           | 1    | 1     | 0       | 0    | 0    | 0              | 1       | 0         | 1       | 0    | 1    | 0         | 0        | 0    | 0                | 0                   | 0                | https://maps.googleapis.com/maps/api/distancematrix/json ... | 23.8\n",
       "Alta Mira | Alta1          | 4/4/2018  | nan              | nan              | 2           | 499     | GSO (work)           | 4601 Malat St       | Oakland    | PM:  | nan       | 10:00     | nan  | Alta Mira         | 28939 Mission Blvd.    | Hayward    | Home                | nan        | AM:  | 10:45     | nan       | Bus,Train    | nan       | 0    | CA    | 37.7648         | -122.221         | 1                     | rooftop              | 4601          | Malat St      | Oakland     | CA           | Alameda County | 94601      | US             | Alameda County                                        | 37.6351  | -122.053  | 1              | rooftop       | 28939  | Mission Blvd       | Hayward    | CA      | Alameda County | 94544 | US      | City of Hayward and Fairview. Licensed for Public Use | 1    | Urban Neighborhood | 0                   | 30-Mar         | 3:30-5:30PM    | James | nan          | N                    | nan              | 1                     | 4/6/2018        | 3:30-5pm        | Rebecca | Juan          | nan                  | nan               | James/Rebecca | nan                | Data Collection scheduled for 3/30 | Yes                             | Urban Neighborhood | 37.6349 | -122.054 | nan   | nan          | shira.goldsmith@edenhousing.org | nan    | 150                | nan  | nan                | Eden      | nan                        | nan   | nan            | 10                   | 10                               | nan              | Rebecca         | Y                 | 16-Apr                 | nan                    | nan                    | nan     | 0           | 0           | 1    | 1     | 0       | 0    | 0    | 0              | 1       | 0         | 1       | 1    | 0    | 0         | 0        | 0    | 0                | 0                   | 0                | https://maps.googleapis.com/maps/api/distancematrix/json ... | 23.8\n",
       "Alta Mira | Dn22QF         | 3/31/2018 | nan              | nan              | 1           | 214     | Home                 | 28939 mission Blv   | Hayward    | PM:  | nan       | 4:23      | nan  | nan               | Holly St and 96th St   | Oakland    | Social/Recreational | nan        | PM:  | nan       | 4:48      | Drove alone  | nan       | 4    | CA    | 37.6346         | -122.053         | 1                     | rooftop              | 28939         | Mission Bl    | Hayward     | CA           | Alameda County | 94544      | US             | Alameda County                                        | 37.7463  | -122.17   | 1              | intersection  | nan    | 96th Ave           | Oakland    | CA      | Alameda County | 94603 | US      | TIGER/Line® dataset from the US Census Bureau         | 1    | Urban Neighborhood | 1                   | 30-Mar         | 3:30-5:30PM    | James | nan          | N                    | nan              | 1                     | 4/6/2018        | 3:30-5pm        | Rebecca | Jenny         | nan                  | nan               | James/Rebecca | nan                | Data Collection scheduled for 3/30 | Yes                             | Urban Neighborhood | 37.6349 | -122.054 | nan   | nan          | shira.goldsmith@edenhousing.org | nan    | 150                | nan  | nan                | Eden      | nan                        | nan   | nan            | 10                   | 10                               | nan              | Rebecca         | Y                 | 16-Apr                 | nan                    | nan                    | nan     | 1           | 0           | 0    | 0     | 0       | 0    | 0    | 0              | 0       | 1         | 1       | 0    | 0    | 0         | 0        | 0    | 0                | 1                   | 0                | https://maps.googleapis.com/maps/api/distancematrix/json ... | 19\n",
       "Alta Mira | LapWx5         | 5/4/2018  | nan              | nan              | 1           | 206     | Home                 | 28939 Mission Blvd  | Hayward    | AM:  | 8         | nan       | nan  | Global Supply     | 20628 Corsair bld      | Hayward    | Work                | nan        | AM:  | 8:15      | nan       | Drove alone  | nan       | 0    | CA    | 37.6351         | -122.053         | 1                     | rooftop              | 28939         | Mission Blvd  | Hayward     | CA           | Alameda County | 94544      | US             | City of Hayward and Fairview. Licensed for Public Use | 37.659   | -122.128  | 1              | rooftop       | 20628  | Corsair Bl         | Hayward    | CA      | Alameda County | 94545 | US      | Alameda County                                        | 1    | Urban Neighborhood | 1                   | 30-Mar         | 3:30-5:30PM    | James | nan          | N                    | nan              | 1                     | 4/6/2018        | 3:30-5pm        | Rebecca | Jenny         | nan                  | nan               | James/Rebecca | nan                | Data Collection scheduled for 3/30 | Yes                             | Urban Neighborhood | 37.6349 | -122.054 | nan   | nan          | shira.goldsmith@edenhousing.org | nan    | 150                | nan  | nan                | Eden      | nan                        | nan   | nan            | 10                   | 10                               | nan              | Rebecca         | Y                 | 16-Apr                 | nan                    | nan                    | nan     | 1           | 0           | 0    | 0     | 0       | 0    | 0    | 0              | 0       | 1         | 1       | 0    | 1    | 0         | 0        | 0    | 0                | 0                   | 0                | https://maps.googleapis.com/maps/api/distancematrix/json ... | 9.9\n",
       "Alta Mira | LapWx5         | 5/4/2018  | nan              | nan              | 2           | 495     | Global Supply        | 20628 Corsair bld   | Hayward    | PM:  | nan       | 5:30      | nan  | Home              | 28939 Mission Blvd     | Hayward    | Home                | nan        | PM:  | nan       | 5:50      | Drove alone  | nan       | 0    | CA    | 37.659          | -122.128         | 1                     | rooftop              | 20628         | Corsair Bl    | Hayward     | CA           | Alameda County | 94545      | US             | Alameda County                                        | 37.6351  | -122.053  | 1              | rooftop       | 28939  | Mission Blvd       | Hayward    | CA      | Alameda County | 94544 | US      | City of Hayward and Fairview. Licensed for Public Use | 1    | Urban Neighborhood | 1                   | 30-Mar         | 3:30-5:30PM    | James | nan          | N                    | nan              | 1                     | 4/6/2018        | 3:30-5pm        | Rebecca | Jenny         | nan                  | nan               | James/Rebecca | nan                | Data Collection scheduled for 3/30 | Yes                             | Urban Neighborhood | 37.6349 | -122.054 | nan   | nan          | shira.goldsmith@edenhousing.org | nan    | 150                | nan  | nan                | Eden      | nan                        | nan   | nan            | 10                   | 10                               | nan              | Rebecca         | Y                 | 16-Apr                 | nan                    | nan                    | nan     | 1           | 0           | 0    | 0     | 0       | 0    | 0    | 0              | 0       | 1         | 1       | 1    | 0    | 0         | 0        | 0    | 0                | 0                   | 0                | https://maps.googleapis.com/maps/api/distancematrix/json ... | 9.5\n",
       "Alta Mira | W6zxrH         | 4/3/2018  | nan              | nan              | 1           | 212     | Alta Mira Apartments | 28939 Mission Blvd  | Hayward    | AM:  | 11:00     | nan       | nan  | Food Max          | 30073 Industrial Pkwy  | Union City | Shopping            | nan        | AM:  | 11:20     | nan       | Drove alone  | nan       | 2    | CA    | 37.6351         | -122.053         | 1                     | rooftop              | 28939         | Mission Blvd  | Hayward     | CA           | Alameda County | 94544      | US             | City of Hayward and Fairview. Licensed for Public Use | 37.6127  | -122.067  | 0.8            | rooftop       | 30073  | Industrial Pkwy SW | Union City | CA      | Alameda County | 94587 | US      | City of Hayward and Fairview. Licensed for Public Use | 1    | Urban Neighborhood | 1                   | 30-Mar         | 3:30-5:30PM    | James | nan          | N                    | nan              | 1                     | 4/6/2018        | 3:30-5pm        | Rebecca | Brittani      | nan                  | nan               | James/Rebecca | nan                | Data Collection scheduled for 3/30 | Yes                             | Urban Neighborhood | 37.6349 | -122.054 | nan   | nan          | shira.goldsmith@edenhousing.org | nan    | 150                | nan  | nan                | Eden      | nan                        | nan   | nan            | 10                   | 10                               | nan              | Rebecca         | Y                 | 16-Apr                 | nan                    | nan                    | nan     | 1           | 0           | 0    | 0     | 0       | 0    | 0    | 0              | 0       | 1         | 1       | 0    | 0    | 0         | 1        | 0    | 0                | 0                   | 0                | https://maps.googleapis.com/maps/api/distancematrix/json ... | 3.5\n",
       "Alta Mira | YPGm7S         | 4/2/2018  | nan              | nan              | 1           | 209     | Home                 | 28939 Mission Blvd  | Hayward    | PM:  | nan       | 1:20      | nan  | Ikea              | 4400 Shellmound St     | Emeryville | Shopping            | nan        | PM:  | nan       | 2:20      | Drove alone  | nan       | 5+   | CA    | 37.6351         | -122.053         | 1                     | rooftop              | 28939         | Mission Blvd  | Hayward     | CA           | Alameda County | 94544      | US             | City of Hayward and Fairview. Licensed for Public Use | 37.8302  | -122.292  | 1              | rooftop       | 4400   | Shellmound St      | Emeryville | CA      | Alameda County | 94608 | US      | Alameda County                                        | 1    | Urban Neighborhood | 1                   | 30-Mar         | 3:30-5:30PM    | James | nan          | N                    | nan              | 1                     | 4/6/2018        | 3:30-5pm        | Rebecca | Jenny         | nan                  | nan               | James/Rebecca | nan                | Data Collection scheduled for 3/30 | Yes                             | Urban Neighborhood | 37.6349 | -122.054 | nan   | nan          | shira.goldsmith@edenhousing.org | nan    | 150                | nan  | nan                | Eden      | nan                        | nan   | nan            | 10                   | 10                               | nan              | Rebecca         | Y                 | 16-Apr                 | nan                    | nan                    | nan     | 1           | 0           | 0    | 0     | 0       | 0    | 0    | 0              | 0       | 1         | 1       | 0    | 0    | 0         | 1        | 0    | 0                | 0                   | 0                | https://maps.googleapis.com/maps/api/distancematrix/json ... | 34.6\n",
       "Alta Mira | YPGm7S         | 4/2/2018  | nan              | nan              | 2           | 498     | Ikea                 | 4400 Shellmound St  | Emeryville | PM:  | nan       | 4:40      | nan  | Home              | 28939 Mission Blvd     | Hayward    | Home                | nan        | PM:  | nan       | 5:50      | Drove alone  | nan       | 5+   | CA    | 37.8302         | -122.292         | 1                     | rooftop              | 4400          | Shellmound St | Emeryville  | CA           | Alameda County | 94608      | US             | Alameda County                                        | 37.6351  | -122.053  | 1              | rooftop       | 28939  | Mission Blvd       | Hayward    | CA      | Alameda County | 94544 | US      | City of Hayward and Fairview. Licensed for Public Use | 1    | Urban Neighborhood | 1                   | 30-Mar         | 3:30-5:30PM    | James | nan          | N                    | nan              | 1                     | 4/6/2018        | 3:30-5pm        | Rebecca | Jenny         | nan                  | nan               | James/Rebecca | nan                | Data Collection scheduled for 3/30 | Yes                             | Urban Neighborhood | 37.6349 | -122.054 | nan   | nan          | shira.goldsmith@edenhousing.org | nan    | 150                | nan  | nan                | Eden      | nan                        | nan   | nan            | 10                   | 10                               | nan              | Rebecca         | Y                 | 16-Apr                 | nan                    | nan                    | nan     | 1           | 0           | 0    | 0     | 0       | 0    | 0    | 0              | 0       | 1         | 1       | 1    | 0    | 0         | 0        | 0    | 0                | 0                   | 0                | https://maps.googleapis.com/maps/api/distancematrix/json ... | 34.9\n",
       "Alta Mira | q3R8pg         | 4/3/2018  | nan              | nan              | 1           | 213     | Alta Mira            | 28939 Mission Blvd  | Hayward    | PM:  | nan       | 4:10      | nan  | Bus Stop          | 29131 Mission Blvd     | Hayward    | Other:              | nan        | PM:  | nan       | 4:20      | Walk         | nan       | 3    | CA    | 37.6351         | -122.053         | 1                     | rooftop              | 28939         | Mission Blvd  | Hayward     | CA           | Alameda County | 94544      | US             | City of Hayward and Fairview. Licensed for Public Use | 37.6334  | -122.052  | 1              | rooftop       | 29131  | Mission Blvd       | Hayward    | CA      | Alameda County | 94544 | US      | City of Hayward and Fairview. Licensed for Public Use | 1    | Urban Neighborhood | 1                   | 30-Mar         | 3:30-5:30PM    | James | nan          | N                    | nan              | 1                     | 4/6/2018        | 3:30-5pm        | Rebecca | Rebecca       | nan                  | nan               | James/Rebecca | nan                | Data Collection scheduled for 3/30 | Yes                             | Urban Neighborhood | 37.6349 | -122.054 | nan   | nan          | shira.goldsmith@edenhousing.org | nan    | 150                | nan  | nan                | Eden      | nan                        | nan   | nan            | 10                   | 10                               | nan              | Rebecca         | Y                 | 16-Apr                 | nan                    | nan                    | nan     | 0           | 0           | 0    | 0     | 0       | 1    | 0    | 0              | 0       | 0         | 0       | 0    | 0    | 0         | 0        | 0    | 0                | 0                   | 0                | https://maps.googleapis.com/maps/api/distancematrix/json ... | 0.2\n",
       "Alta Mira | qA9Xwg         | 4/2/2018  | nan              | nan              | 1           | 208     | Alta Mira Apartments | 28939 Mission Blvd  | Hayward    | AM:  | 9:45      | nan       | nan  | Highland Hospital | 1411 East 31st Street  | Oakland    | Personal/Medical    | nan        | AM:  | 10:30     | nan       | Free shuttle | nan       | 0    | CA    | 37.6351         | -122.053         | 1                     | rooftop              | 28939         | Mission Blvd  | Hayward     | CA           | Alameda County | 94544      | US             | City of Hayward and Fairview. Licensed for Public Use | 37.7983  | -122.232  | 1              | rooftop       | 1411   | E 31st St          | Oakland    | CA      | Alameda County | 94602 | US      | Alameda County                                        | 1    | Urban Neighborhood | 0                   | 30-Mar         | 3:30-5:30PM    | James | nan          | N                    | nan              | 1                     | 4/6/2018        | 3:30-5pm        | Rebecca | Brittani      | nan                  | nan               | James/Rebecca | nan                | Data Collection scheduled for 3/30 | Yes                             | Urban Neighborhood | 37.6349 | -122.054 | nan   | nan          | shira.goldsmith@edenhousing.org | nan    | 150                | nan  | nan                | Eden      | nan                        | nan   | nan            | 10                   | 10                               | nan              | Rebecca         | Y                 | 16-Apr                 | nan                    | nan                    | nan     | 0           | 0           | 0    | 0     | 1       | 0    | 0    | 0              | 1       | 0         | 1       | 0    | 0    | 0         | 0        | 0    | 1                | 0                   | 0                | https://maps.googleapis.com/maps/api/distancematrix/json ... | 27\n",
       "... (1329 rows omitted)"
      ]
     },
     "execution_count": 2,
     "metadata": {},
     "output_type": "execute_result"
    }
   ],
   "source": [
    "tl"
   ]
  },
  {
   "cell_type": "code",
   "execution_count": 33,
   "metadata": {},
   "outputs": [],
   "source": [
    "from pylab import figure, axes, pie, title, show"
   ]
  },
  {
   "cell_type": "code",
   "execution_count": 36,
   "metadata": {},
   "outputs": [
    {
     "data": {
      "image/png": "[encoded data removed]",
      "text/plain": [
       "<Figure size 432x288 with 1 Axes>"
      ]
     },
     "metadata": {},
     "output_type": "display_data"
    }
   ],
   "source": [
    "tl.where('Distance',are.below(9999)).hist('Distance', unit='km')\n",
    "plt.savefig('TLog_Dist_histogram.png')"
   ]
  },
  {
   "cell_type": "code",
   "execution_count": 14,
   "metadata": {},
   "outputs": [
    {
     "data": {
      "text/plain": [
       "7.223101460415066"
      ]
     },
     "execution_count": 14,
     "metadata": {},
     "output_type": "execute_result"
    }
   ],
   "source": [
    "# Mean Distance\n",
    "np.mean(tl.where('Distance',are.below(9999)).column('Distance'))"
   ]
  },
  {
   "cell_type": "code",
   "execution_count": 15,
   "metadata": {},
   "outputs": [
    {
     "data": {
      "text/plain": [
       "294"
      ]
     },
     "execution_count": 15,
     "metadata": {},
     "output_type": "execute_result"
    }
   ],
   "source": [
    "# Number of participants\n",
    "tl.group('Participant_ID').num_rows"
   ]
  },
  {
   "cell_type": "code",
   "execution_count": 17,
   "metadata": {},
   "outputs": [
    {
     "data": {
      "text/plain": [
       "4.554421768707483"
      ]
     },
     "execution_count": 17,
     "metadata": {},
     "output_type": "execute_result"
    }
   ],
   "source": [
    "# Average number of trips per participant\n",
    "tl.num_rows/tl.group('Participant_ID').num_rows"
   ]
  },
  {
   "cell_type": "code",
   "execution_count": 18,
   "metadata": {},
   "outputs": [
    {
     "data": {
      "text/html": [
       "<table border=\"1\" class=\"dataframe\">\n",
       "    <thead>\n",
       "        <tr>\n",
       "            <th>Q7</th> <th>count</th>\n",
       "        </tr>\n",
       "    </thead>\n",
       "    <tbody>\n",
       "        <tr>\n",
       "            <td>Drove alone   </td> <td>611  </td>\n",
       "        </tr>\n",
       "        <tr>\n",
       "            <td>Walk          </td> <td>237  </td>\n",
       "        </tr>\n",
       "        <tr>\n",
       "            <td>Shared ride   </td> <td>203  </td>\n",
       "        </tr>\n",
       "        <tr>\n",
       "            <td>Bus           </td> <td>98   </td>\n",
       "        </tr>\n",
       "        <tr>\n",
       "            <td>Train         </td> <td>35   </td>\n",
       "        </tr>\n",
       "        <tr>\n",
       "            <td>Walk,Bus      </td> <td>32   </td>\n",
       "        </tr>\n",
       "        <tr>\n",
       "            <td>nan           </td> <td>29   </td>\n",
       "        </tr>\n",
       "        <tr>\n",
       "            <td>Bus,Train     </td> <td>18   </td>\n",
       "        </tr>\n",
       "        <tr>\n",
       "            <td>Other:        </td> <td>16   </td>\n",
       "        </tr>\n",
       "        <tr>\n",
       "            <td>Walk,Bus,Train</td> <td>12   </td>\n",
       "        </tr>\n",
       "    </tbody>\n",
       "</table>\n",
       "<p>... (12 rows omitted)</p>"
      ],
      "text/plain": [
       "Q7             | count\n",
       "Drove alone    | 611\n",
       "Walk           | 237\n",
       "Shared ride    | 203\n",
       "Bus            | 98\n",
       "Train          | 35\n",
       "Walk,Bus       | 32\n",
       "nan            | 29\n",
       "Bus,Train      | 18\n",
       "Other:         | 16\n",
       "Walk,Bus,Train | 12\n",
       "... (12 rows omitted)"
      ]
     },
     "execution_count": 18,
     "metadata": {},
     "output_type": "execute_result"
    }
   ],
   "source": [
    "tl.group('Q7').sort(1,descending=True)"
   ]
  },
  {
   "cell_type": "code",
   "execution_count": 19,
   "metadata": {},
   "outputs": [
    {
     "data": {
      "text/html": [
       "<table border=\"1\" class=\"dataframe\">\n",
       "    <thead>\n",
       "        <tr>\n",
       "            <th>Q10</th> <th>count</th>\n",
       "        </tr>\n",
       "    </thead>\n",
       "    <tbody>\n",
       "        <tr>\n",
       "            <td>Home                      </td> <td>408  </td>\n",
       "        </tr>\n",
       "        <tr>\n",
       "            <td>Shopping                  </td> <td>198  </td>\n",
       "        </tr>\n",
       "        <tr>\n",
       "            <td>Pick-up/drop-off          </td> <td>176  </td>\n",
       "        </tr>\n",
       "        <tr>\n",
       "            <td>Personal/Medical          </td> <td>104  </td>\n",
       "        </tr>\n",
       "        <tr>\n",
       "            <td>Work                      </td> <td>98   </td>\n",
       "        </tr>\n",
       "        <tr>\n",
       "            <td>Social/Recreational       </td> <td>69   </td>\n",
       "        </tr>\n",
       "        <tr>\n",
       "            <td>Education                 </td> <td>63   </td>\n",
       "        </tr>\n",
       "        <tr>\n",
       "            <td>Meal                      </td> <td>53   </td>\n",
       "        </tr>\n",
       "        <tr>\n",
       "            <td>nan                       </td> <td>20   </td>\n",
       "        </tr>\n",
       "        <tr>\n",
       "            <td>Education,Pick-up/drop-off</td> <td>20   </td>\n",
       "        </tr>\n",
       "    </tbody>\n",
       "</table>\n",
       "<p>... (38 rows omitted)</p>"
      ],
      "text/plain": [
       "Q10                        | count\n",
       "Home                       | 408\n",
       "Shopping                   | 198\n",
       "Pick-up/drop-off           | 176\n",
       "Personal/Medical           | 104\n",
       "Work                       | 98\n",
       "Social/Recreational        | 69\n",
       "Education                  | 63\n",
       "Meal                       | 53\n",
       "nan                        | 20\n",
       "Education,Pick-up/drop-off | 20\n",
       "... (38 rows omitted)"
      ]
     },
     "execution_count": 19,
     "metadata": {},
     "output_type": "execute_result"
    }
   ],
   "source": [
    "tl.group('Q10').sort(1,descending=True)"
   ]
  },
  {
   "cell_type": "code",
   "execution_count": 23,
   "metadata": {},
   "outputs": [
    {
     "data": {
      "text/html": [
       "<table border=\"1\" class=\"dataframe\">\n",
       "    <thead>\n",
       "        <tr>\n",
       "            <th>Q7</th> <th>count</th>\n",
       "        </tr>\n",
       "    </thead>\n",
       "    <tbody>\n",
       "        <tr>\n",
       "            <td>Drove alone   </td> <td>61   </td>\n",
       "        </tr>\n",
       "        <tr>\n",
       "            <td>Walk          </td> <td>17   </td>\n",
       "        </tr>\n",
       "        <tr>\n",
       "            <td>Bus           </td> <td>7    </td>\n",
       "        </tr>\n",
       "        <tr>\n",
       "            <td>Shared ride   </td> <td>4    </td>\n",
       "        </tr>\n",
       "        <tr>\n",
       "            <td>Train         </td> <td>3    </td>\n",
       "        </tr>\n",
       "        <tr>\n",
       "            <td>Bus,Train     </td> <td>3    </td>\n",
       "        </tr>\n",
       "        <tr>\n",
       "            <td>Walk,Bus,Train</td> <td>2    </td>\n",
       "        </tr>\n",
       "        <tr>\n",
       "            <td>Taxi/Uber/Lyft</td> <td>1    </td>\n",
       "        </tr>\n",
       "    </tbody>\n",
       "</table>"
      ],
      "text/plain": [
       "Q7             | count\n",
       "Drove alone    | 61\n",
       "Walk           | 17\n",
       "Bus            | 7\n",
       "Shared ride    | 4\n",
       "Train          | 3\n",
       "Bus,Train      | 3\n",
       "Walk,Bus,Train | 2\n",
       "Taxi/Uber/Lyft | 1"
      ]
     },
     "execution_count": 23,
     "metadata": {},
     "output_type": "execute_result"
    }
   ],
   "source": [
    "tl.where('Q10','Work').group('Q7').sort(1,descending=True)"
   ]
  },
  {
   "cell_type": "code",
   "execution_count": 25,
   "metadata": {
    "scrolled": true
   },
   "outputs": [
    {
     "data": {
      "text/html": [
       "<table border=\"1\" class=\"dataframe\">\n",
       "    <thead>\n",
       "        <tr>\n",
       "            <th>Site</th> <th>Distance mean</th>\n",
       "        </tr>\n",
       "    </thead>\n",
       "    <tbody>\n",
       "        <tr>\n",
       "            <td>Santa Cecilia                  </td> <td>13.307       </td>\n",
       "        </tr>\n",
       "        <tr>\n",
       "            <td>Riverwood Grove                </td> <td>13.029       </td>\n",
       "        </tr>\n",
       "        <tr>\n",
       "            <td>Alta Mira                      </td> <td>12.2205      </td>\n",
       "        </tr>\n",
       "        <tr>\n",
       "            <td>Belmont                        </td> <td>11.4323      </td>\n",
       "        </tr>\n",
       "        <tr>\n",
       "            <td>MacArthur Park                 </td> <td>10.414       </td>\n",
       "        </tr>\n",
       "        <tr>\n",
       "            <td>Oroysom Village                </td> <td>9.80385      </td>\n",
       "        </tr>\n",
       "        <tr>\n",
       "            <td>Camellia Place                 </td> <td>8.8125       </td>\n",
       "        </tr>\n",
       "        <tr>\n",
       "            <td>Eden Baywood                   </td> <td>8.55238      </td>\n",
       "        </tr>\n",
       "        <tr>\n",
       "            <td>Mandela Gateway                </td> <td>8.22979      </td>\n",
       "        </tr>\n",
       "        <tr>\n",
       "            <td>Station Center                 </td> <td>8.1          </td>\n",
       "        </tr>\n",
       "        <tr>\n",
       "            <td>Los Robles                     </td> <td>7.80817      </td>\n",
       "        </tr>\n",
       "        <tr>\n",
       "            <td>Coggins Square                 </td> <td>7.17385      </td>\n",
       "        </tr>\n",
       "        <tr>\n",
       "            <td>Blossom River                  </td> <td>7.112        </td>\n",
       "        </tr>\n",
       "        <tr>\n",
       "            <td>Pollard Plaza                  </td> <td>6.87359      </td>\n",
       "        </tr>\n",
       "        <tr>\n",
       "            <td>Wexford Way                    </td> <td>6.81616      </td>\n",
       "        </tr>\n",
       "        <tr>\n",
       "            <td>Cathedral Gardens              </td> <td>6.66024      </td>\n",
       "        </tr>\n",
       "        <tr>\n",
       "            <td>Sol y Luna                     </td> <td>6.4          </td>\n",
       "        </tr>\n",
       "        <tr>\n",
       "            <td>Madison at 14th Apartments     </td> <td>6.35921      </td>\n",
       "        </tr>\n",
       "        <tr>\n",
       "            <td>Prosperity Place               </td> <td>5.99792      </td>\n",
       "        </tr>\n",
       "        <tr>\n",
       "            <td>Pueblo Del Sol                 </td> <td>5.85231      </td>\n",
       "        </tr>\n",
       "        <tr>\n",
       "            <td>Baycliff                       </td> <td>5.69688      </td>\n",
       "        </tr>\n",
       "        <tr>\n",
       "            <td>Oxford Plaza                   </td> <td>5.61598      </td>\n",
       "        </tr>\n",
       "        <tr>\n",
       "            <td>Richmond City Center Apartments</td> <td>5.55714      </td>\n",
       "        </tr>\n",
       "        <tr>\n",
       "            <td>The Ambassador                 </td> <td>4.34595      </td>\n",
       "        </tr>\n",
       "        <tr>\n",
       "            <td>The Oaks                       </td> <td>3.98378      </td>\n",
       "        </tr>\n",
       "        <tr>\n",
       "            <td>Metro Hollywood/Carlton        </td> <td>2.32222      </td>\n",
       "        </tr>\n",
       "        <tr>\n",
       "            <td>Frank G. Mar                   </td> <td>1.67976      </td>\n",
       "        </tr>\n",
       "    </tbody>\n",
       "</table>"
      ],
      "text/plain": [
       "<IPython.core.display.HTML object>"
      ]
     },
     "metadata": {},
     "output_type": "display_data"
    }
   ],
   "source": [
    "# Average distance by site\n",
    "tl.where('Distance', are.below(9999)).group(0,np.mean).select('Site','Distance mean').sort(1,descending=True).show(27)"
   ]
  },
  {
   "cell_type": "code",
   "execution_count": 31,
   "metadata": {},
   "outputs": [
    {
     "data": {
      "text/html": [
       "<table border=\"1\" class=\"dataframe\">\n",
       "    <thead>\n",
       "        <tr>\n",
       "            <th>Placetype</th> <th>Distance mean</th>\n",
       "        </tr>\n",
       "    </thead>\n",
       "    <tbody>\n",
       "        <tr>\n",
       "            <td>Suburban Neighborhood</td> <td>7.58448      </td>\n",
       "        </tr>\n",
       "        <tr>\n",
       "            <td>Urban Neighborhood   </td> <td>7.39755      </td>\n",
       "        </tr>\n",
       "        <tr>\n",
       "            <td>Urban District       </td> <td>7.17771      </td>\n",
       "        </tr>\n",
       "        <tr>\n",
       "            <td>Urban Core           </td> <td>6.62479      </td>\n",
       "        </tr>\n",
       "    </tbody>\n",
       "</table>"
      ],
      "text/plain": [
       "Placetype             | Distance mean\n",
       "Suburban Neighborhood | 7.58448\n",
       "Urban Neighborhood    | 7.39755\n",
       "Urban District        | 7.17771\n",
       "Urban Core            | 6.62479"
      ]
     },
     "execution_count": 31,
     "metadata": {},
     "output_type": "execute_result"
    }
   ],
   "source": [
    "#Average distance by placetype\n",
    "tl.where('Distance', are.below(9999)).group('Placetype',np.mean).select(0,'Distance mean').sort(1,descending=True)"
   ]
  }
 ],
 "metadata": {
  "kernelspec": {
   "display_name": "Python 3",
   "language": "python",
   "name": "python3"
  },
  "language_info": {
   "codemirror_mode": {
    "name": "ipython",
    "version": 3
   },
   "file_extension": ".py",
   "mimetype": "text/x-python",
   "name": "python",
   "nbconvert_exporter": "python",
   "pygments_lexer": "ipython3",
   "version": "3.6.5"
  }
 },
 "nbformat": 4,
 "nbformat_minor": 2
}
