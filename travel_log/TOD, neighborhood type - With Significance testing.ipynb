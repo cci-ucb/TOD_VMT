{
 "cells": [
  {
   "cell_type": "code",
   "execution_count": 2,
   "metadata": {},
   "outputs": [],
   "source": [
    "import numpy as np, pandas as pd\n",
    "from datascience import *\n",
    "tl = Table.read_table(\"TL_with_dist_10_10_JamesEdits.csv\")"
   ]
  },
  {
   "cell_type": "code",
   "execution_count": 3,
   "metadata": {},
   "outputs": [
    {
     "data": {
      "text/html": [
       "<table border=\"1\" class=\"dataframe\">\n",
       "    <thead>\n",
       "        <tr>\n",
       "            <th>Site</th> <th>Participant_ID</th> <th>Q69</th> <th>Date_bound_lower</th> <th>Date_bound_upper</th> <th>Trip_number</th> <th>Trip_ID</th> <th>Q2_1</th> <th>Q2_2</th> <th>Q2_3</th> <th>Q3</th> <th>Q3_1_TEXT</th> <th>Q3_2_TEXT</th> <th>Q65</th> <th>Q5_1</th> <th>Q5_2</th> <th>Q5_3</th> <th>Q10</th> <th>Q10_9_TEXT</th> <th>Q6</th> <th>Q6_1_TEXT</th> <th>Q6_2_TEXT</th> <th>Q7</th> <th>Q7_7_TEXT</th> <th>Q8</th> <th>State</th> <th>Origin_Latitude</th> <th>Origin_Longitude</th> <th>Origin_Accuracy Score</th> <th>Origin_Accuracy Type</th> <th>Origin_Number</th> <th>Origin_Street</th> <th>Origin_City</th> <th>Origin_State</th> <th>Origin_County</th> <th>Origin_Zip</th> <th>Origin_Country</th> <th>Origin_Source</th> <th>Latitude</th> <th>Longitude</th> <th>Accuracy Score</th> <th>Accuracy Type</th> <th>Number</th> <th>Street</th> <th>City</th> <th>State.1</th> <th>County</th> <th>Zip</th> <th>Country</th> <th>Source</th> <th>TOD?</th> <th>Placetype</th> <th>on e-mission server</th> <th>Date onboarded</th> <th>Time onboarded</th> <th>GSR</th> <th>RA onboarded</th> <th>Installed App? (y/n)</th> <th>Onboarding notes</th> <th>Offboarded? (1 = yes)</th> <th>Date offboarded</th> <th>Time offboarded</th> <th>GSR.1</th> <th>RA offboarded</th> <th>Downloaded app data?</th> <th>Offboarding notes</th> <th>GSR Lead</th> <th>Carol has contact?</th> <th>Status</th> <th>Within Half Mile of HQT? (TOD?)</th> <th>PDX Place Type</th> <th>Lat</th> <th>Long</th> <th>Notes</th> <th>Contact Name</th> <th>Phone # or email</th> <th>City_2</th> <th>Units with Subsidy</th> <th>PIS</th> <th>Management Company</th> <th>Developer</th> <th>Community room we can use?</th> <th>Wifi?</th> <th>Language Needs</th> <th>Total # Participants</th> <th>Double Check Participants_Survey</th> <th>Travel Log Total</th> <th>GSR Survey Lead</th> <th>Survey completed?</th> <th>Outreach touch point 1</th> <th>Outreach touch point 2</th> <th>Outreach touch point 3</th> <th>Notes.1</th> <th>Drove_Alone</th> <th>Drove_Share</th> <th>Bus</th> <th>Train</th> <th>Shuttle</th> <th>Walk</th> <th>Bike</th> <th>Taxi/Uber/Lyft</th> <th>Transit</th> <th>Drove_all</th> <th>Vehicle</th> <th>Home</th> <th>Work</th> <th>Education</th> <th>Shopping</th> <th>Meal</th> <th>Personal/Medical</th> <th>Social/Recreational</th> <th>Pick_up_drop_off</th> <th>URL</th> <th>Distance</th>\n",
       "        </tr>\n",
       "    </thead>\n",
       "    <tbody>\n",
       "        <tr>\n",
       "            <td>Alta Mira</td> <td>Alta1         </td> <td>4/4/2018 </td> <td>nan             </td> <td>nan             </td> <td>1          </td> <td>210    </td> <td>Alta Mira           </td> <td>28939 Mission Blvd.</td> <td>Hayward   </td> <td>PM: </td> <td>nan      </td> <td>4:00     </td> <td>nan </td> <td>GSO (work)       </td> <td>4601 Malat St         </td> <td>Oakland   </td> <td>Work               </td> <td>nan       </td> <td>PM: </td> <td>nan      </td> <td>6:00     </td> <td>Bus,Train   </td> <td>nan      </td> <td>0   </td> <td>CA   </td> <td>37.6351        </td> <td>-122.053        </td> <td>1                    </td> <td>rooftop             </td> <td>28939        </td> <td>Mission Blvd </td> <td>Hayward    </td> <td>CA          </td> <td>Alameda County</td> <td>94544     </td> <td>US            </td> <td>City of Hayward and Fairview. Licensed for Public Use</td> <td>37.7648 </td> <td>-122.221 </td> <td>1             </td> <td>rooftop      </td> <td>4601  </td> <td>Malat St          </td> <td>Oakland   </td> <td>CA     </td> <td>Alameda County</td> <td>94601</td> <td>US     </td> <td>Alameda County                                       </td> <td>1   </td> <td>Urban Neighborhood</td> <td>0                  </td> <td>30-Mar        </td> <td>3:30-5:30PM   </td> <td>James</td> <td>nan         </td> <td>N                   </td> <td>nan             </td> <td>1                    </td> <td>4/6/2018       </td> <td>3:30-5pm       </td> <td>Rebecca</td> <td>Juan         </td> <td>nan                 </td> <td>nan              </td> <td>James/Rebecca</td> <td>nan               </td> <td>Data Collection scheduled for 3/30</td> <td>Yes                            </td> <td>Urban Neighborhood</td> <td>37.6349</td> <td>-122.054</td> <td>nan  </td> <td>nan         </td> <td>shira.goldsmith@edenhousing.org</td> <td>nan   </td> <td>150               </td> <td>nan </td> <td>nan               </td> <td>Eden     </td> <td>nan                       </td> <td>nan  </td> <td>nan           </td> <td>10                  </td> <td>10                              </td> <td>nan             </td> <td>Rebecca        </td> <td>Y                </td> <td>16-Apr                </td> <td>nan                   </td> <td>nan                   </td> <td>nan    </td> <td>0          </td> <td>0          </td> <td>1   </td> <td>1    </td> <td>0      </td> <td>0   </td> <td>0   </td> <td>0             </td> <td>1      </td> <td>0        </td> <td>1      </td> <td>0   </td> <td>1   </td> <td>0        </td> <td>0       </td> <td>0   </td> <td>0               </td> <td>0                  </td> <td>0               </td> <td>https://maps.googleapis.com/maps/api/distancematrix/json ...</td> <td>23.8    </td>\n",
       "        </tr>\n",
       "        <tr>\n",
       "            <td>Alta Mira</td> <td>Alta1         </td> <td>4/4/2018 </td> <td>nan             </td> <td>nan             </td> <td>2          </td> <td>499    </td> <td>GSO (work)          </td> <td>4601 Malat St      </td> <td>Oakland   </td> <td>PM: </td> <td>nan      </td> <td>10:00    </td> <td>nan </td> <td>Alta Mira        </td> <td>28939 Mission Blvd.   </td> <td>Hayward   </td> <td>Home               </td> <td>nan       </td> <td>AM: </td> <td>10:45    </td> <td>nan      </td> <td>Bus,Train   </td> <td>nan      </td> <td>0   </td> <td>CA   </td> <td>37.7648        </td> <td>-122.221        </td> <td>1                    </td> <td>rooftop             </td> <td>4601         </td> <td>Malat St     </td> <td>Oakland    </td> <td>CA          </td> <td>Alameda County</td> <td>94601     </td> <td>US            </td> <td>Alameda County                                       </td> <td>37.6351 </td> <td>-122.053 </td> <td>1             </td> <td>rooftop      </td> <td>28939 </td> <td>Mission Blvd      </td> <td>Hayward   </td> <td>CA     </td> <td>Alameda County</td> <td>94544</td> <td>US     </td> <td>City of Hayward and Fairview. Licensed for Public Use</td> <td>1   </td> <td>Urban Neighborhood</td> <td>0                  </td> <td>30-Mar        </td> <td>3:30-5:30PM   </td> <td>James</td> <td>nan         </td> <td>N                   </td> <td>nan             </td> <td>1                    </td> <td>4/6/2018       </td> <td>3:30-5pm       </td> <td>Rebecca</td> <td>Juan         </td> <td>nan                 </td> <td>nan              </td> <td>James/Rebecca</td> <td>nan               </td> <td>Data Collection scheduled for 3/30</td> <td>Yes                            </td> <td>Urban Neighborhood</td> <td>37.6349</td> <td>-122.054</td> <td>nan  </td> <td>nan         </td> <td>shira.goldsmith@edenhousing.org</td> <td>nan   </td> <td>150               </td> <td>nan </td> <td>nan               </td> <td>Eden     </td> <td>nan                       </td> <td>nan  </td> <td>nan           </td> <td>10                  </td> <td>10                              </td> <td>nan             </td> <td>Rebecca        </td> <td>Y                </td> <td>16-Apr                </td> <td>nan                   </td> <td>nan                   </td> <td>nan    </td> <td>0          </td> <td>0          </td> <td>1   </td> <td>1    </td> <td>0      </td> <td>0   </td> <td>0   </td> <td>0             </td> <td>1      </td> <td>0        </td> <td>1      </td> <td>1   </td> <td>0   </td> <td>0        </td> <td>0       </td> <td>0   </td> <td>0               </td> <td>0                  </td> <td>0               </td> <td>https://maps.googleapis.com/maps/api/distancematrix/json ...</td> <td>23.8    </td>\n",
       "        </tr>\n",
       "        <tr>\n",
       "            <td>Alta Mira</td> <td>Dn22QF        </td> <td>3/31/2018</td> <td>nan             </td> <td>nan             </td> <td>1          </td> <td>214    </td> <td>Home                </td> <td>28939 mission Blv  </td> <td>Hayward   </td> <td>PM: </td> <td>nan      </td> <td>4:23     </td> <td>nan </td> <td>nan              </td> <td>Holly St and 96th St  </td> <td>Oakland   </td> <td>Social/Recreational</td> <td>nan       </td> <td>PM: </td> <td>nan      </td> <td>4:48     </td> <td>Drove alone </td> <td>nan      </td> <td>4   </td> <td>CA   </td> <td>37.6346        </td> <td>-122.053        </td> <td>1                    </td> <td>rooftop             </td> <td>28939        </td> <td>Mission Bl   </td> <td>Hayward    </td> <td>CA          </td> <td>Alameda County</td> <td>94544     </td> <td>US            </td> <td>Alameda County                                       </td> <td>37.7463 </td> <td>-122.17  </td> <td>1             </td> <td>intersection </td> <td>nan   </td> <td>96th Ave          </td> <td>Oakland   </td> <td>CA     </td> <td>Alameda County</td> <td>94603</td> <td>US     </td> <td>TIGER/Line® dataset from the US Census Bureau        </td> <td>1   </td> <td>Urban Neighborhood</td> <td>1                  </td> <td>30-Mar        </td> <td>3:30-5:30PM   </td> <td>James</td> <td>nan         </td> <td>N                   </td> <td>nan             </td> <td>1                    </td> <td>4/6/2018       </td> <td>3:30-5pm       </td> <td>Rebecca</td> <td>Jenny        </td> <td>nan                 </td> <td>nan              </td> <td>James/Rebecca</td> <td>nan               </td> <td>Data Collection scheduled for 3/30</td> <td>Yes                            </td> <td>Urban Neighborhood</td> <td>37.6349</td> <td>-122.054</td> <td>nan  </td> <td>nan         </td> <td>shira.goldsmith@edenhousing.org</td> <td>nan   </td> <td>150               </td> <td>nan </td> <td>nan               </td> <td>Eden     </td> <td>nan                       </td> <td>nan  </td> <td>nan           </td> <td>10                  </td> <td>10                              </td> <td>nan             </td> <td>Rebecca        </td> <td>Y                </td> <td>16-Apr                </td> <td>nan                   </td> <td>nan                   </td> <td>nan    </td> <td>1          </td> <td>0          </td> <td>0   </td> <td>0    </td> <td>0      </td> <td>0   </td> <td>0   </td> <td>0             </td> <td>0      </td> <td>1        </td> <td>1      </td> <td>0   </td> <td>0   </td> <td>0        </td> <td>0       </td> <td>0   </td> <td>0               </td> <td>1                  </td> <td>0               </td> <td>https://maps.googleapis.com/maps/api/distancematrix/json ...</td> <td>19      </td>\n",
       "        </tr>\n",
       "        <tr>\n",
       "            <td>Alta Mira</td> <td>LapWx5        </td> <td>5/4/2018 </td> <td>nan             </td> <td>nan             </td> <td>1          </td> <td>206    </td> <td>Home                </td> <td>28939 Mission Blvd </td> <td>Hayward   </td> <td>AM: </td> <td>8        </td> <td>nan      </td> <td>nan </td> <td>Global Supply    </td> <td>20628 Corsair bld     </td> <td>Hayward   </td> <td>Work               </td> <td>nan       </td> <td>AM: </td> <td>8:15     </td> <td>nan      </td> <td>Drove alone </td> <td>nan      </td> <td>0   </td> <td>CA   </td> <td>37.6351        </td> <td>-122.053        </td> <td>1                    </td> <td>rooftop             </td> <td>28939        </td> <td>Mission Blvd </td> <td>Hayward    </td> <td>CA          </td> <td>Alameda County</td> <td>94544     </td> <td>US            </td> <td>City of Hayward and Fairview. Licensed for Public Use</td> <td>37.659  </td> <td>-122.128 </td> <td>1             </td> <td>rooftop      </td> <td>20628 </td> <td>Corsair Bl        </td> <td>Hayward   </td> <td>CA     </td> <td>Alameda County</td> <td>94545</td> <td>US     </td> <td>Alameda County                                       </td> <td>1   </td> <td>Urban Neighborhood</td> <td>1                  </td> <td>30-Mar        </td> <td>3:30-5:30PM   </td> <td>James</td> <td>nan         </td> <td>N                   </td> <td>nan             </td> <td>1                    </td> <td>4/6/2018       </td> <td>3:30-5pm       </td> <td>Rebecca</td> <td>Jenny        </td> <td>nan                 </td> <td>nan              </td> <td>James/Rebecca</td> <td>nan               </td> <td>Data Collection scheduled for 3/30</td> <td>Yes                            </td> <td>Urban Neighborhood</td> <td>37.6349</td> <td>-122.054</td> <td>nan  </td> <td>nan         </td> <td>shira.goldsmith@edenhousing.org</td> <td>nan   </td> <td>150               </td> <td>nan </td> <td>nan               </td> <td>Eden     </td> <td>nan                       </td> <td>nan  </td> <td>nan           </td> <td>10                  </td> <td>10                              </td> <td>nan             </td> <td>Rebecca        </td> <td>Y                </td> <td>16-Apr                </td> <td>nan                   </td> <td>nan                   </td> <td>nan    </td> <td>1          </td> <td>0          </td> <td>0   </td> <td>0    </td> <td>0      </td> <td>0   </td> <td>0   </td> <td>0             </td> <td>0      </td> <td>1        </td> <td>1      </td> <td>0   </td> <td>1   </td> <td>0        </td> <td>0       </td> <td>0   </td> <td>0               </td> <td>0                  </td> <td>0               </td> <td>https://maps.googleapis.com/maps/api/distancematrix/json ...</td> <td>9.9     </td>\n",
       "        </tr>\n",
       "        <tr>\n",
       "            <td>Alta Mira</td> <td>LapWx5        </td> <td>5/4/2018 </td> <td>nan             </td> <td>nan             </td> <td>2          </td> <td>495    </td> <td>Global Supply       </td> <td>20628 Corsair bld  </td> <td>Hayward   </td> <td>PM: </td> <td>nan      </td> <td>5:30     </td> <td>nan </td> <td>Home             </td> <td>28939 Mission Blvd    </td> <td>Hayward   </td> <td>Home               </td> <td>nan       </td> <td>PM: </td> <td>nan      </td> <td>5:50     </td> <td>Drove alone </td> <td>nan      </td> <td>0   </td> <td>CA   </td> <td>37.659         </td> <td>-122.128        </td> <td>1                    </td> <td>rooftop             </td> <td>20628        </td> <td>Corsair Bl   </td> <td>Hayward    </td> <td>CA          </td> <td>Alameda County</td> <td>94545     </td> <td>US            </td> <td>Alameda County                                       </td> <td>37.6351 </td> <td>-122.053 </td> <td>1             </td> <td>rooftop      </td> <td>28939 </td> <td>Mission Blvd      </td> <td>Hayward   </td> <td>CA     </td> <td>Alameda County</td> <td>94544</td> <td>US     </td> <td>City of Hayward and Fairview. Licensed for Public Use</td> <td>1   </td> <td>Urban Neighborhood</td> <td>1                  </td> <td>30-Mar        </td> <td>3:30-5:30PM   </td> <td>James</td> <td>nan         </td> <td>N                   </td> <td>nan             </td> <td>1                    </td> <td>4/6/2018       </td> <td>3:30-5pm       </td> <td>Rebecca</td> <td>Jenny        </td> <td>nan                 </td> <td>nan              </td> <td>James/Rebecca</td> <td>nan               </td> <td>Data Collection scheduled for 3/30</td> <td>Yes                            </td> <td>Urban Neighborhood</td> <td>37.6349</td> <td>-122.054</td> <td>nan  </td> <td>nan         </td> <td>shira.goldsmith@edenhousing.org</td> <td>nan   </td> <td>150               </td> <td>nan </td> <td>nan               </td> <td>Eden     </td> <td>nan                       </td> <td>nan  </td> <td>nan           </td> <td>10                  </td> <td>10                              </td> <td>nan             </td> <td>Rebecca        </td> <td>Y                </td> <td>16-Apr                </td> <td>nan                   </td> <td>nan                   </td> <td>nan    </td> <td>1          </td> <td>0          </td> <td>0   </td> <td>0    </td> <td>0      </td> <td>0   </td> <td>0   </td> <td>0             </td> <td>0      </td> <td>1        </td> <td>1      </td> <td>1   </td> <td>0   </td> <td>0        </td> <td>0       </td> <td>0   </td> <td>0               </td> <td>0                  </td> <td>0               </td> <td>https://maps.googleapis.com/maps/api/distancematrix/json ...</td> <td>9.5     </td>\n",
       "        </tr>\n",
       "        <tr>\n",
       "            <td>Alta Mira</td> <td>W6zxrH        </td> <td>4/3/2018 </td> <td>nan             </td> <td>nan             </td> <td>1          </td> <td>212    </td> <td>Alta Mira Apartments</td> <td>28939 Mission Blvd </td> <td>Hayward   </td> <td>AM: </td> <td>11:00    </td> <td>nan      </td> <td>nan </td> <td>Food Max         </td> <td>30073 Industrial Pkwy </td> <td>Union City</td> <td>Shopping           </td> <td>nan       </td> <td>AM: </td> <td>11:20    </td> <td>nan      </td> <td>Drove alone </td> <td>nan      </td> <td>2   </td> <td>CA   </td> <td>37.6351        </td> <td>-122.053        </td> <td>1                    </td> <td>rooftop             </td> <td>28939        </td> <td>Mission Blvd </td> <td>Hayward    </td> <td>CA          </td> <td>Alameda County</td> <td>94544     </td> <td>US            </td> <td>City of Hayward and Fairview. Licensed for Public Use</td> <td>37.6127 </td> <td>-122.067 </td> <td>0.8           </td> <td>rooftop      </td> <td>30073 </td> <td>Industrial Pkwy SW</td> <td>Union City</td> <td>CA     </td> <td>Alameda County</td> <td>94587</td> <td>US     </td> <td>City of Hayward and Fairview. Licensed for Public Use</td> <td>1   </td> <td>Urban Neighborhood</td> <td>1                  </td> <td>30-Mar        </td> <td>3:30-5:30PM   </td> <td>James</td> <td>nan         </td> <td>N                   </td> <td>nan             </td> <td>1                    </td> <td>4/6/2018       </td> <td>3:30-5pm       </td> <td>Rebecca</td> <td>Brittani     </td> <td>nan                 </td> <td>nan              </td> <td>James/Rebecca</td> <td>nan               </td> <td>Data Collection scheduled for 3/30</td> <td>Yes                            </td> <td>Urban Neighborhood</td> <td>37.6349</td> <td>-122.054</td> <td>nan  </td> <td>nan         </td> <td>shira.goldsmith@edenhousing.org</td> <td>nan   </td> <td>150               </td> <td>nan </td> <td>nan               </td> <td>Eden     </td> <td>nan                       </td> <td>nan  </td> <td>nan           </td> <td>10                  </td> <td>10                              </td> <td>nan             </td> <td>Rebecca        </td> <td>Y                </td> <td>16-Apr                </td> <td>nan                   </td> <td>nan                   </td> <td>nan    </td> <td>1          </td> <td>0          </td> <td>0   </td> <td>0    </td> <td>0      </td> <td>0   </td> <td>0   </td> <td>0             </td> <td>0      </td> <td>1        </td> <td>1      </td> <td>0   </td> <td>0   </td> <td>0        </td> <td>1       </td> <td>0   </td> <td>0               </td> <td>0                  </td> <td>0               </td> <td>https://maps.googleapis.com/maps/api/distancematrix/json ...</td> <td>3.5     </td>\n",
       "        </tr>\n",
       "        <tr>\n",
       "            <td>Alta Mira</td> <td>YPGm7S        </td> <td>4/2/2018 </td> <td>nan             </td> <td>nan             </td> <td>1          </td> <td>209    </td> <td>Home                </td> <td>28939 Mission Blvd </td> <td>Hayward   </td> <td>PM: </td> <td>nan      </td> <td>1:20     </td> <td>nan </td> <td>Ikea             </td> <td>4400 Shellmound St    </td> <td>Emeryville</td> <td>Shopping           </td> <td>nan       </td> <td>PM: </td> <td>nan      </td> <td>2:20     </td> <td>Drove alone </td> <td>nan      </td> <td>5+  </td> <td>CA   </td> <td>37.6351        </td> <td>-122.053        </td> <td>1                    </td> <td>rooftop             </td> <td>28939        </td> <td>Mission Blvd </td> <td>Hayward    </td> <td>CA          </td> <td>Alameda County</td> <td>94544     </td> <td>US            </td> <td>City of Hayward and Fairview. Licensed for Public Use</td> <td>37.8302 </td> <td>-122.292 </td> <td>1             </td> <td>rooftop      </td> <td>4400  </td> <td>Shellmound St     </td> <td>Emeryville</td> <td>CA     </td> <td>Alameda County</td> <td>94608</td> <td>US     </td> <td>Alameda County                                       </td> <td>1   </td> <td>Urban Neighborhood</td> <td>1                  </td> <td>30-Mar        </td> <td>3:30-5:30PM   </td> <td>James</td> <td>nan         </td> <td>N                   </td> <td>nan             </td> <td>1                    </td> <td>4/6/2018       </td> <td>3:30-5pm       </td> <td>Rebecca</td> <td>Jenny        </td> <td>nan                 </td> <td>nan              </td> <td>James/Rebecca</td> <td>nan               </td> <td>Data Collection scheduled for 3/30</td> <td>Yes                            </td> <td>Urban Neighborhood</td> <td>37.6349</td> <td>-122.054</td> <td>nan  </td> <td>nan         </td> <td>shira.goldsmith@edenhousing.org</td> <td>nan   </td> <td>150               </td> <td>nan </td> <td>nan               </td> <td>Eden     </td> <td>nan                       </td> <td>nan  </td> <td>nan           </td> <td>10                  </td> <td>10                              </td> <td>nan             </td> <td>Rebecca        </td> <td>Y                </td> <td>16-Apr                </td> <td>nan                   </td> <td>nan                   </td> <td>nan    </td> <td>1          </td> <td>0          </td> <td>0   </td> <td>0    </td> <td>0      </td> <td>0   </td> <td>0   </td> <td>0             </td> <td>0      </td> <td>1        </td> <td>1      </td> <td>0   </td> <td>0   </td> <td>0        </td> <td>1       </td> <td>0   </td> <td>0               </td> <td>0                  </td> <td>0               </td> <td>https://maps.googleapis.com/maps/api/distancematrix/json ...</td> <td>34.6    </td>\n",
       "        </tr>\n",
       "        <tr>\n",
       "            <td>Alta Mira</td> <td>YPGm7S        </td> <td>4/2/2018 </td> <td>nan             </td> <td>nan             </td> <td>2          </td> <td>498    </td> <td>Ikea                </td> <td>4400 Shellmound St </td> <td>Emeryville</td> <td>PM: </td> <td>nan      </td> <td>4:40     </td> <td>nan </td> <td>Home             </td> <td>28939 Mission Blvd    </td> <td>Hayward   </td> <td>Home               </td> <td>nan       </td> <td>PM: </td> <td>nan      </td> <td>5:50     </td> <td>Drove alone </td> <td>nan      </td> <td>5+  </td> <td>CA   </td> <td>37.8302        </td> <td>-122.292        </td> <td>1                    </td> <td>rooftop             </td> <td>4400         </td> <td>Shellmound St</td> <td>Emeryville </td> <td>CA          </td> <td>Alameda County</td> <td>94608     </td> <td>US            </td> <td>Alameda County                                       </td> <td>37.6351 </td> <td>-122.053 </td> <td>1             </td> <td>rooftop      </td> <td>28939 </td> <td>Mission Blvd      </td> <td>Hayward   </td> <td>CA     </td> <td>Alameda County</td> <td>94544</td> <td>US     </td> <td>City of Hayward and Fairview. Licensed for Public Use</td> <td>1   </td> <td>Urban Neighborhood</td> <td>1                  </td> <td>30-Mar        </td> <td>3:30-5:30PM   </td> <td>James</td> <td>nan         </td> <td>N                   </td> <td>nan             </td> <td>1                    </td> <td>4/6/2018       </td> <td>3:30-5pm       </td> <td>Rebecca</td> <td>Jenny        </td> <td>nan                 </td> <td>nan              </td> <td>James/Rebecca</td> <td>nan               </td> <td>Data Collection scheduled for 3/30</td> <td>Yes                            </td> <td>Urban Neighborhood</td> <td>37.6349</td> <td>-122.054</td> <td>nan  </td> <td>nan         </td> <td>shira.goldsmith@edenhousing.org</td> <td>nan   </td> <td>150               </td> <td>nan </td> <td>nan               </td> <td>Eden     </td> <td>nan                       </td> <td>nan  </td> <td>nan           </td> <td>10                  </td> <td>10                              </td> <td>nan             </td> <td>Rebecca        </td> <td>Y                </td> <td>16-Apr                </td> <td>nan                   </td> <td>nan                   </td> <td>nan    </td> <td>1          </td> <td>0          </td> <td>0   </td> <td>0    </td> <td>0      </td> <td>0   </td> <td>0   </td> <td>0             </td> <td>0      </td> <td>1        </td> <td>1      </td> <td>1   </td> <td>0   </td> <td>0        </td> <td>0       </td> <td>0   </td> <td>0               </td> <td>0                  </td> <td>0               </td> <td>https://maps.googleapis.com/maps/api/distancematrix/json ...</td> <td>34.9    </td>\n",
       "        </tr>\n",
       "        <tr>\n",
       "            <td>Alta Mira</td> <td>q3R8pg        </td> <td>4/3/2018 </td> <td>nan             </td> <td>nan             </td> <td>1          </td> <td>213    </td> <td>Alta Mira           </td> <td>28939 Mission Blvd </td> <td>Hayward   </td> <td>PM: </td> <td>nan      </td> <td>4:10     </td> <td>nan </td> <td>Bus Stop         </td> <td>29131 Mission Blvd    </td> <td>Hayward   </td> <td>Other:             </td> <td>nan       </td> <td>PM: </td> <td>nan      </td> <td>4:20     </td> <td>Walk        </td> <td>nan      </td> <td>3   </td> <td>CA   </td> <td>37.6351        </td> <td>-122.053        </td> <td>1                    </td> <td>rooftop             </td> <td>28939        </td> <td>Mission Blvd </td> <td>Hayward    </td> <td>CA          </td> <td>Alameda County</td> <td>94544     </td> <td>US            </td> <td>City of Hayward and Fairview. Licensed for Public Use</td> <td>37.6334 </td> <td>-122.052 </td> <td>1             </td> <td>rooftop      </td> <td>29131 </td> <td>Mission Blvd      </td> <td>Hayward   </td> <td>CA     </td> <td>Alameda County</td> <td>94544</td> <td>US     </td> <td>City of Hayward and Fairview. Licensed for Public Use</td> <td>1   </td> <td>Urban Neighborhood</td> <td>1                  </td> <td>30-Mar        </td> <td>3:30-5:30PM   </td> <td>James</td> <td>nan         </td> <td>N                   </td> <td>nan             </td> <td>1                    </td> <td>4/6/2018       </td> <td>3:30-5pm       </td> <td>Rebecca</td> <td>Rebecca      </td> <td>nan                 </td> <td>nan              </td> <td>James/Rebecca</td> <td>nan               </td> <td>Data Collection scheduled for 3/30</td> <td>Yes                            </td> <td>Urban Neighborhood</td> <td>37.6349</td> <td>-122.054</td> <td>nan  </td> <td>nan         </td> <td>shira.goldsmith@edenhousing.org</td> <td>nan   </td> <td>150               </td> <td>nan </td> <td>nan               </td> <td>Eden     </td> <td>nan                       </td> <td>nan  </td> <td>nan           </td> <td>10                  </td> <td>10                              </td> <td>nan             </td> <td>Rebecca        </td> <td>Y                </td> <td>16-Apr                </td> <td>nan                   </td> <td>nan                   </td> <td>nan    </td> <td>0          </td> <td>0          </td> <td>0   </td> <td>0    </td> <td>0      </td> <td>1   </td> <td>0   </td> <td>0             </td> <td>0      </td> <td>0        </td> <td>0      </td> <td>0   </td> <td>0   </td> <td>0        </td> <td>0       </td> <td>0   </td> <td>0               </td> <td>0                  </td> <td>0               </td> <td>https://maps.googleapis.com/maps/api/distancematrix/json ...</td> <td>0.2     </td>\n",
       "        </tr>\n",
       "        <tr>\n",
       "            <td>Alta Mira</td> <td>qA9Xwg        </td> <td>4/2/2018 </td> <td>nan             </td> <td>nan             </td> <td>1          </td> <td>208    </td> <td>Alta Mira Apartments</td> <td>28939 Mission Blvd </td> <td>Hayward   </td> <td>AM: </td> <td>9:45     </td> <td>nan      </td> <td>nan </td> <td>Highland Hospital</td> <td>1411 East 31st Street </td> <td>Oakland   </td> <td>Personal/Medical   </td> <td>nan       </td> <td>AM: </td> <td>10:30    </td> <td>nan      </td> <td>Free shuttle</td> <td>nan      </td> <td>0   </td> <td>CA   </td> <td>37.6351        </td> <td>-122.053        </td> <td>1                    </td> <td>rooftop             </td> <td>28939        </td> <td>Mission Blvd </td> <td>Hayward    </td> <td>CA          </td> <td>Alameda County</td> <td>94544     </td> <td>US            </td> <td>City of Hayward and Fairview. Licensed for Public Use</td> <td>37.7983 </td> <td>-122.232 </td> <td>1             </td> <td>rooftop      </td> <td>1411  </td> <td>E 31st St         </td> <td>Oakland   </td> <td>CA     </td> <td>Alameda County</td> <td>94602</td> <td>US     </td> <td>Alameda County                                       </td> <td>1   </td> <td>Urban Neighborhood</td> <td>0                  </td> <td>30-Mar        </td> <td>3:30-5:30PM   </td> <td>James</td> <td>nan         </td> <td>N                   </td> <td>nan             </td> <td>1                    </td> <td>4/6/2018       </td> <td>3:30-5pm       </td> <td>Rebecca</td> <td>Brittani     </td> <td>nan                 </td> <td>nan              </td> <td>James/Rebecca</td> <td>nan               </td> <td>Data Collection scheduled for 3/30</td> <td>Yes                            </td> <td>Urban Neighborhood</td> <td>37.6349</td> <td>-122.054</td> <td>nan  </td> <td>nan         </td> <td>shira.goldsmith@edenhousing.org</td> <td>nan   </td> <td>150               </td> <td>nan </td> <td>nan               </td> <td>Eden     </td> <td>nan                       </td> <td>nan  </td> <td>nan           </td> <td>10                  </td> <td>10                              </td> <td>nan             </td> <td>Rebecca        </td> <td>Y                </td> <td>16-Apr                </td> <td>nan                   </td> <td>nan                   </td> <td>nan    </td> <td>0          </td> <td>0          </td> <td>0   </td> <td>0    </td> <td>1      </td> <td>0   </td> <td>0   </td> <td>0             </td> <td>1      </td> <td>0        </td> <td>1      </td> <td>0   </td> <td>0   </td> <td>0        </td> <td>0       </td> <td>0   </td> <td>1               </td> <td>0                  </td> <td>0               </td> <td>https://maps.googleapis.com/maps/api/distancematrix/json ...</td> <td>27      </td>\n",
       "        </tr>\n",
       "    </tbody>\n",
       "</table>\n",
       "<p>... (1329 rows omitted)</p>"
      ],
      "text/plain": [
       "Site      | Participant_ID | Q69       | Date_bound_lower | Date_bound_upper | Trip_number | Trip_ID | Q2_1                 | Q2_2                | Q2_3       | Q3   | Q3_1_TEXT | Q3_2_TEXT | Q65  | Q5_1              | Q5_2                   | Q5_3       | Q10                 | Q10_9_TEXT | Q6   | Q6_1_TEXT | Q6_2_TEXT | Q7           | Q7_7_TEXT | Q8   | State | Origin_Latitude | Origin_Longitude | Origin_Accuracy Score | Origin_Accuracy Type | Origin_Number | Origin_Street | Origin_City | Origin_State | Origin_County  | Origin_Zip | Origin_Country | Origin_Source                                         | Latitude | Longitude | Accuracy Score | Accuracy Type | Number | Street             | City       | State.1 | County         | Zip   | Country | Source                                                | TOD? | Placetype          | on e-mission server | Date onboarded | Time onboarded | GSR   | RA onboarded | Installed App? (y/n) | Onboarding notes | Offboarded? (1 = yes) | Date offboarded | Time offboarded | GSR.1   | RA offboarded | Downloaded app data? | Offboarding notes | GSR Lead      | Carol has contact? | Status                             | Within Half Mile of HQT? (TOD?) | PDX Place Type     | Lat     | Long     | Notes | Contact Name | Phone # or email                | City_2 | Units with Subsidy | PIS  | Management Company | Developer | Community room we can use? | Wifi? | Language Needs | Total # Participants | Double Check Participants_Survey | Travel Log Total | GSR Survey Lead | Survey completed? | Outreach touch point 1 | Outreach touch point 2 | Outreach touch point 3 | Notes.1 | Drove_Alone | Drove_Share | Bus  | Train | Shuttle | Walk | Bike | Taxi/Uber/Lyft | Transit | Drove_all | Vehicle | Home | Work | Education | Shopping | Meal | Personal/Medical | Social/Recreational | Pick_up_drop_off | URL                                                          | Distance\n",
       "Alta Mira | Alta1          | 4/4/2018  | nan              | nan              | 1           | 210     | Alta Mira            | 28939 Mission Blvd. | Hayward    | PM:  | nan       | 4:00      | nan  | GSO (work)        | 4601 Malat St          | Oakland    | Work                | nan        | PM:  | nan       | 6:00      | Bus,Train    | nan       | 0    | CA    | 37.6351         | -122.053         | 1                     | rooftop              | 28939         | Mission Blvd  | Hayward     | CA           | Alameda County | 94544      | US             | City of Hayward and Fairview. Licensed for Public Use | 37.7648  | -122.221  | 1              | rooftop       | 4601   | Malat St           | Oakland    | CA      | Alameda County | 94601 | US      | Alameda County                                        | 1    | Urban Neighborhood | 0                   | 30-Mar         | 3:30-5:30PM    | James | nan          | N                    | nan              | 1                     | 4/6/2018        | 3:30-5pm        | Rebecca | Juan          | nan                  | nan               | James/Rebecca | nan                | Data Collection scheduled for 3/30 | Yes                             | Urban Neighborhood | 37.6349 | -122.054 | nan   | nan          | shira.goldsmith@edenhousing.org | nan    | 150                | nan  | nan                | Eden      | nan                        | nan   | nan            | 10                   | 10                               | nan              | Rebecca         | Y                 | 16-Apr                 | nan                    | nan                    | nan     | 0           | 0           | 1    | 1     | 0       | 0    | 0    | 0              | 1       | 0         | 1       | 0    | 1    | 0         | 0        | 0    | 0                | 0                   | 0                | https://maps.googleapis.com/maps/api/distancematrix/json ... | 23.8\n",
       "Alta Mira | Alta1          | 4/4/2018  | nan              | nan              | 2           | 499     | GSO (work)           | 4601 Malat St       | Oakland    | PM:  | nan       | 10:00     | nan  | Alta Mira         | 28939 Mission Blvd.    | Hayward    | Home                | nan        | AM:  | 10:45     | nan       | Bus,Train    | nan       | 0    | CA    | 37.7648         | -122.221         | 1                     | rooftop              | 4601          | Malat St      | Oakland     | CA           | Alameda County | 94601      | US             | Alameda County                                        | 37.6351  | -122.053  | 1              | rooftop       | 28939  | Mission Blvd       | Hayward    | CA      | Alameda County | 94544 | US      | City of Hayward and Fairview. Licensed for Public Use | 1    | Urban Neighborhood | 0                   | 30-Mar         | 3:30-5:30PM    | James | nan          | N                    | nan              | 1                     | 4/6/2018        | 3:30-5pm        | Rebecca | Juan          | nan                  | nan               | James/Rebecca | nan                | Data Collection scheduled for 3/30 | Yes                             | Urban Neighborhood | 37.6349 | -122.054 | nan   | nan          | shira.goldsmith@edenhousing.org | nan    | 150                | nan  | nan                | Eden      | nan                        | nan   | nan            | 10                   | 10                               | nan              | Rebecca         | Y                 | 16-Apr                 | nan                    | nan                    | nan     | 0           | 0           | 1    | 1     | 0       | 0    | 0    | 0              | 1       | 0         | 1       | 1    | 0    | 0         | 0        | 0    | 0                | 0                   | 0                | https://maps.googleapis.com/maps/api/distancematrix/json ... | 23.8\n",
       "Alta Mira | Dn22QF         | 3/31/2018 | nan              | nan              | 1           | 214     | Home                 | 28939 mission Blv   | Hayward    | PM:  | nan       | 4:23      | nan  | nan               | Holly St and 96th St   | Oakland    | Social/Recreational | nan        | PM:  | nan       | 4:48      | Drove alone  | nan       | 4    | CA    | 37.6346         | -122.053         | 1                     | rooftop              | 28939         | Mission Bl    | Hayward     | CA           | Alameda County | 94544      | US             | Alameda County                                        | 37.7463  | -122.17   | 1              | intersection  | nan    | 96th Ave           | Oakland    | CA      | Alameda County | 94603 | US      | TIGER/Line® dataset from the US Census Bureau         | 1    | Urban Neighborhood | 1                   | 30-Mar         | 3:30-5:30PM    | James | nan          | N                    | nan              | 1                     | 4/6/2018        | 3:30-5pm        | Rebecca | Jenny         | nan                  | nan               | James/Rebecca | nan                | Data Collection scheduled for 3/30 | Yes                             | Urban Neighborhood | 37.6349 | -122.054 | nan   | nan          | shira.goldsmith@edenhousing.org | nan    | 150                | nan  | nan                | Eden      | nan                        | nan   | nan            | 10                   | 10                               | nan              | Rebecca         | Y                 | 16-Apr                 | nan                    | nan                    | nan     | 1           | 0           | 0    | 0     | 0       | 0    | 0    | 0              | 0       | 1         | 1       | 0    | 0    | 0         | 0        | 0    | 0                | 1                   | 0                | https://maps.googleapis.com/maps/api/distancematrix/json ... | 19\n",
       "Alta Mira | LapWx5         | 5/4/2018  | nan              | nan              | 1           | 206     | Home                 | 28939 Mission Blvd  | Hayward    | AM:  | 8         | nan       | nan  | Global Supply     | 20628 Corsair bld      | Hayward    | Work                | nan        | AM:  | 8:15      | nan       | Drove alone  | nan       | 0    | CA    | 37.6351         | -122.053         | 1                     | rooftop              | 28939         | Mission Blvd  | Hayward     | CA           | Alameda County | 94544      | US             | City of Hayward and Fairview. Licensed for Public Use | 37.659   | -122.128  | 1              | rooftop       | 20628  | Corsair Bl         | Hayward    | CA      | Alameda County | 94545 | US      | Alameda County                                        | 1    | Urban Neighborhood | 1                   | 30-Mar         | 3:30-5:30PM    | James | nan          | N                    | nan              | 1                     | 4/6/2018        | 3:30-5pm        | Rebecca | Jenny         | nan                  | nan               | James/Rebecca | nan                | Data Collection scheduled for 3/30 | Yes                             | Urban Neighborhood | 37.6349 | -122.054 | nan   | nan          | shira.goldsmith@edenhousing.org | nan    | 150                | nan  | nan                | Eden      | nan                        | nan   | nan            | 10                   | 10                               | nan              | Rebecca         | Y                 | 16-Apr                 | nan                    | nan                    | nan     | 1           | 0           | 0    | 0     | 0       | 0    | 0    | 0              | 0       | 1         | 1       | 0    | 1    | 0         | 0        | 0    | 0                | 0                   | 0                | https://maps.googleapis.com/maps/api/distancematrix/json ... | 9.9\n",
       "Alta Mira | LapWx5         | 5/4/2018  | nan              | nan              | 2           | 495     | Global Supply        | 20628 Corsair bld   | Hayward    | PM:  | nan       | 5:30      | nan  | Home              | 28939 Mission Blvd     | Hayward    | Home                | nan        | PM:  | nan       | 5:50      | Drove alone  | nan       | 0    | CA    | 37.659          | -122.128         | 1                     | rooftop              | 20628         | Corsair Bl    | Hayward     | CA           | Alameda County | 94545      | US             | Alameda County                                        | 37.6351  | -122.053  | 1              | rooftop       | 28939  | Mission Blvd       | Hayward    | CA      | Alameda County | 94544 | US      | City of Hayward and Fairview. Licensed for Public Use | 1    | Urban Neighborhood | 1                   | 30-Mar         | 3:30-5:30PM    | James | nan          | N                    | nan              | 1                     | 4/6/2018        | 3:30-5pm        | Rebecca | Jenny         | nan                  | nan               | James/Rebecca | nan                | Data Collection scheduled for 3/30 | Yes                             | Urban Neighborhood | 37.6349 | -122.054 | nan   | nan          | shira.goldsmith@edenhousing.org | nan    | 150                | nan  | nan                | Eden      | nan                        | nan   | nan            | 10                   | 10                               | nan              | Rebecca         | Y                 | 16-Apr                 | nan                    | nan                    | nan     | 1           | 0           | 0    | 0     | 0       | 0    | 0    | 0              | 0       | 1         | 1       | 1    | 0    | 0         | 0        | 0    | 0                | 0                   | 0                | https://maps.googleapis.com/maps/api/distancematrix/json ... | 9.5\n",
       "Alta Mira | W6zxrH         | 4/3/2018  | nan              | nan              | 1           | 212     | Alta Mira Apartments | 28939 Mission Blvd  | Hayward    | AM:  | 11:00     | nan       | nan  | Food Max          | 30073 Industrial Pkwy  | Union City | Shopping            | nan        | AM:  | 11:20     | nan       | Drove alone  | nan       | 2    | CA    | 37.6351         | -122.053         | 1                     | rooftop              | 28939         | Mission Blvd  | Hayward     | CA           | Alameda County | 94544      | US             | City of Hayward and Fairview. Licensed for Public Use | 37.6127  | -122.067  | 0.8            | rooftop       | 30073  | Industrial Pkwy SW | Union City | CA      | Alameda County | 94587 | US      | City of Hayward and Fairview. Licensed for Public Use | 1    | Urban Neighborhood | 1                   | 30-Mar         | 3:30-5:30PM    | James | nan          | N                    | nan              | 1                     | 4/6/2018        | 3:30-5pm        | Rebecca | Brittani      | nan                  | nan               | James/Rebecca | nan                | Data Collection scheduled for 3/30 | Yes                             | Urban Neighborhood | 37.6349 | -122.054 | nan   | nan          | shira.goldsmith@edenhousing.org | nan    | 150                | nan  | nan                | Eden      | nan                        | nan   | nan            | 10                   | 10                               | nan              | Rebecca         | Y                 | 16-Apr                 | nan                    | nan                    | nan     | 1           | 0           | 0    | 0     | 0       | 0    | 0    | 0              | 0       | 1         | 1       | 0    | 0    | 0         | 1        | 0    | 0                | 0                   | 0                | https://maps.googleapis.com/maps/api/distancematrix/json ... | 3.5\n",
       "Alta Mira | YPGm7S         | 4/2/2018  | nan              | nan              | 1           | 209     | Home                 | 28939 Mission Blvd  | Hayward    | PM:  | nan       | 1:20      | nan  | Ikea              | 4400 Shellmound St     | Emeryville | Shopping            | nan        | PM:  | nan       | 2:20      | Drove alone  | nan       | 5+   | CA    | 37.6351         | -122.053         | 1                     | rooftop              | 28939         | Mission Blvd  | Hayward     | CA           | Alameda County | 94544      | US             | City of Hayward and Fairview. Licensed for Public Use | 37.8302  | -122.292  | 1              | rooftop       | 4400   | Shellmound St      | Emeryville | CA      | Alameda County | 94608 | US      | Alameda County                                        | 1    | Urban Neighborhood | 1                   | 30-Mar         | 3:30-5:30PM    | James | nan          | N                    | nan              | 1                     | 4/6/2018        | 3:30-5pm        | Rebecca | Jenny         | nan                  | nan               | James/Rebecca | nan                | Data Collection scheduled for 3/30 | Yes                             | Urban Neighborhood | 37.6349 | -122.054 | nan   | nan          | shira.goldsmith@edenhousing.org | nan    | 150                | nan  | nan                | Eden      | nan                        | nan   | nan            | 10                   | 10                               | nan              | Rebecca         | Y                 | 16-Apr                 | nan                    | nan                    | nan     | 1           | 0           | 0    | 0     | 0       | 0    | 0    | 0              | 0       | 1         | 1       | 0    | 0    | 0         | 1        | 0    | 0                | 0                   | 0                | https://maps.googleapis.com/maps/api/distancematrix/json ... | 34.6\n",
       "Alta Mira | YPGm7S         | 4/2/2018  | nan              | nan              | 2           | 498     | Ikea                 | 4400 Shellmound St  | Emeryville | PM:  | nan       | 4:40      | nan  | Home              | 28939 Mission Blvd     | Hayward    | Home                | nan        | PM:  | nan       | 5:50      | Drove alone  | nan       | 5+   | CA    | 37.8302         | -122.292         | 1                     | rooftop              | 4400          | Shellmound St | Emeryville  | CA           | Alameda County | 94608      | US             | Alameda County                                        | 37.6351  | -122.053  | 1              | rooftop       | 28939  | Mission Blvd       | Hayward    | CA      | Alameda County | 94544 | US      | City of Hayward and Fairview. Licensed for Public Use | 1    | Urban Neighborhood | 1                   | 30-Mar         | 3:30-5:30PM    | James | nan          | N                    | nan              | 1                     | 4/6/2018        | 3:30-5pm        | Rebecca | Jenny         | nan                  | nan               | James/Rebecca | nan                | Data Collection scheduled for 3/30 | Yes                             | Urban Neighborhood | 37.6349 | -122.054 | nan   | nan          | shira.goldsmith@edenhousing.org | nan    | 150                | nan  | nan                | Eden      | nan                        | nan   | nan            | 10                   | 10                               | nan              | Rebecca         | Y                 | 16-Apr                 | nan                    | nan                    | nan     | 1           | 0           | 0    | 0     | 0       | 0    | 0    | 0              | 0       | 1         | 1       | 1    | 0    | 0         | 0        | 0    | 0                | 0                   | 0                | https://maps.googleapis.com/maps/api/distancematrix/json ... | 34.9\n",
       "Alta Mira | q3R8pg         | 4/3/2018  | nan              | nan              | 1           | 213     | Alta Mira            | 28939 Mission Blvd  | Hayward    | PM:  | nan       | 4:10      | nan  | Bus Stop          | 29131 Mission Blvd     | Hayward    | Other:              | nan        | PM:  | nan       | 4:20      | Walk         | nan       | 3    | CA    | 37.6351         | -122.053         | 1                     | rooftop              | 28939         | Mission Blvd  | Hayward     | CA           | Alameda County | 94544      | US             | City of Hayward and Fairview. Licensed for Public Use | 37.6334  | -122.052  | 1              | rooftop       | 29131  | Mission Blvd       | Hayward    | CA      | Alameda County | 94544 | US      | City of Hayward and Fairview. Licensed for Public Use | 1    | Urban Neighborhood | 1                   | 30-Mar         | 3:30-5:30PM    | James | nan          | N                    | nan              | 1                     | 4/6/2018        | 3:30-5pm        | Rebecca | Rebecca       | nan                  | nan               | James/Rebecca | nan                | Data Collection scheduled for 3/30 | Yes                             | Urban Neighborhood | 37.6349 | -122.054 | nan   | nan          | shira.goldsmith@edenhousing.org | nan    | 150                | nan  | nan                | Eden      | nan                        | nan   | nan            | 10                   | 10                               | nan              | Rebecca         | Y                 | 16-Apr                 | nan                    | nan                    | nan     | 0           | 0           | 0    | 0     | 0       | 1    | 0    | 0              | 0       | 0         | 0       | 0    | 0    | 0         | 0        | 0    | 0                | 0                   | 0                | https://maps.googleapis.com/maps/api/distancematrix/json ... | 0.2\n",
       "Alta Mira | qA9Xwg         | 4/2/2018  | nan              | nan              | 1           | 208     | Alta Mira Apartments | 28939 Mission Blvd  | Hayward    | AM:  | 9:45      | nan       | nan  | Highland Hospital | 1411 East 31st Street  | Oakland    | Personal/Medical    | nan        | AM:  | 10:30     | nan       | Free shuttle | nan       | 0    | CA    | 37.6351         | -122.053         | 1                     | rooftop              | 28939         | Mission Blvd  | Hayward     | CA           | Alameda County | 94544      | US             | City of Hayward and Fairview. Licensed for Public Use | 37.7983  | -122.232  | 1              | rooftop       | 1411   | E 31st St          | Oakland    | CA      | Alameda County | 94602 | US      | Alameda County                                        | 1    | Urban Neighborhood | 0                   | 30-Mar         | 3:30-5:30PM    | James | nan          | N                    | nan              | 1                     | 4/6/2018        | 3:30-5pm        | Rebecca | Brittani      | nan                  | nan               | James/Rebecca | nan                | Data Collection scheduled for 3/30 | Yes                             | Urban Neighborhood | 37.6349 | -122.054 | nan   | nan          | shira.goldsmith@edenhousing.org | nan    | 150                | nan  | nan                | Eden      | nan                        | nan   | nan            | 10                   | 10                               | nan              | Rebecca         | Y                 | 16-Apr                 | nan                    | nan                    | nan     | 0           | 0           | 0    | 0     | 1       | 0    | 0    | 0              | 1       | 0         | 1       | 0    | 0    | 0         | 0        | 0    | 1                | 0                   | 0                | https://maps.googleapis.com/maps/api/distancematrix/json ... | 27\n",
       "... (1329 rows omitted)"
      ]
     },
     "execution_count": 3,
     "metadata": {},
     "output_type": "execute_result"
    }
   ],
   "source": [
    "tl"
   ]
  },
  {
   "cell_type": "code",
   "execution_count": 4,
   "metadata": {},
   "outputs": [],
   "source": [
    "tod = tl.where(\"Within Half Mile of HQT? (TOD?)\", \"Yes\")\n",
    "control = tl.where(\"Within Half Mile of HQT? (TOD?)\", \"No\")"
   ]
  },
  {
   "cell_type": "code",
   "execution_count": 5,
   "metadata": {
    "scrolled": true
   },
   "outputs": [
    {
     "data": {
      "text/html": [
       "<table border=\"1\" class=\"dataframe\">\n",
       "    <thead>\n",
       "        <tr>\n",
       "            <th>PDX Place Type</th> <th>count</th>\n",
       "        </tr>\n",
       "    </thead>\n",
       "    <tbody>\n",
       "        <tr>\n",
       "            <td>Suburban Neighborhood</td> <td>117  </td>\n",
       "        </tr>\n",
       "        <tr>\n",
       "            <td>Urban Core           </td> <td>348  </td>\n",
       "        </tr>\n",
       "        <tr>\n",
       "            <td>Urban District       </td> <td>195  </td>\n",
       "        </tr>\n",
       "        <tr>\n",
       "            <td>Urban Neighborhood   </td> <td>246  </td>\n",
       "        </tr>\n",
       "    </tbody>\n",
       "</table>"
      ],
      "text/plain": [
       "PDX Place Type        | count\n",
       "Suburban Neighborhood | 117\n",
       "Urban Core            | 348\n",
       "Urban District        | 195\n",
       "Urban Neighborhood    | 246"
      ]
     },
     "execution_count": 5,
     "metadata": {},
     "output_type": "execute_result"
    }
   ],
   "source": [
    "tod.group('PDX Place Type')"
   ]
  },
  {
   "cell_type": "code",
   "execution_count": 6,
   "metadata": {},
   "outputs": [
    {
     "data": {
      "text/html": [
       "<table border=\"1\" class=\"dataframe\">\n",
       "    <thead>\n",
       "        <tr>\n",
       "            <th>PDX Place Type</th> <th>count</th>\n",
       "        </tr>\n",
       "    </thead>\n",
       "    <tbody>\n",
       "        <tr>\n",
       "            <td>Suburban Neighborhood</td> <td>337  </td>\n",
       "        </tr>\n",
       "        <tr>\n",
       "            <td>Urban Neighborhood   </td> <td>96   </td>\n",
       "        </tr>\n",
       "    </tbody>\n",
       "</table>"
      ],
      "text/plain": [
       "PDX Place Type        | count\n",
       "Suburban Neighborhood | 337\n",
       "Urban Neighborhood    | 96"
      ]
     },
     "execution_count": 6,
     "metadata": {},
     "output_type": "execute_result"
    }
   ],
   "source": [
    "control.group('PDX Place Type')"
   ]
  },
  {
   "cell_type": "code",
   "execution_count": 7,
   "metadata": {},
   "outputs": [],
   "source": [
    "suburban = tl.where('PDX Place Type','Suburban Neighborhood')\n",
    "urban = tl.where('PDX Place Type', are.not_equal_to('Suburban Neighborhood'))\n",
    "tod_urban = tod.where('PDX Place Type', are.not_equal_to('Suburban Neighborhood'))\n",
    "control_urban = control.where('PDX Place Type', are.not_equal_to('Suburban Neighborhood'))\n",
    "tod_sub = tod.where('PDX Place Type','Suburban Neighborhood')\n",
    "control_sub = control.where('PDX Place Type','Suburban Neighborhood')"
   ]
  },
  {
   "cell_type": "code",
   "execution_count": 8,
   "metadata": {},
   "outputs": [],
   "source": [
    "def drive_percent(tbl):\n",
    "    return(len(tbl.where('Drove_all',1).column(0))/len(tbl.column(0)))\n",
    "def carpool_percent(tbl):\n",
    "    return(len(tbl.where('Drove_Share',1).column(0))/len(tbl.where('Drove_all',1).column(0)))\n",
    "def work_drive(tbl):\n",
    "    return(len(tbl.where('Work',1).where('Drove_all',1).column(0))/len(tbl.where('Work',1).column(0)))\n",
    "def rec_drive(tbl):\n",
    "    return(len(tbl.where('Social/Recreational',1).where('Drove_all',1).column(0))/len(tbl.where('Social/Recreational',1).column(0)))\n",
    "def mean_dist(table):\n",
    "    return np.mean(table.where('Distance',are.below(9999)).column('Distance'))\n",
    "def mean_car(table):\n",
    "    return np.mean(table.where('Distance',are.below(9999)).where('Drove_all',1).column('Distance'))\n",
    "def mean_transit(table):\n",
    "    return np.mean(table.where('Distance',are.below(9999)).where('Transit',1).column('Distance'))\n",
    "def mean_walk(table):\n",
    "    return np.mean(table.where('Distance',are.below(9999)).where('Walk',1).where('Transit',0).column('Distance'))"
   ]
  },
  {
   "cell_type": "code",
   "execution_count": 72,
   "metadata": {},
   "outputs": [
    {
     "data": {
      "text/html": [
       "<table border=\"1\" class=\"dataframe\">\n",
       "    <thead>\n",
       "        <tr>\n",
       "            <th>Housing Type</th> <th>Percent Trips Driving</th> <th>Percent Driving Trips Carpooled</th> <th>Percent Work Trips Driving</th> <th>Percent Recreation Trips Driving</th> <th>Mean Distance of All Trips (km)</th> <th>Mean Distance of Driving Trips (km)</th> <th>Mean Distance of Transit Trips (km)</th> <th>Mean Distance of Walking Trips (km)</th>\n",
       "        </tr>\n",
       "    </thead>\n",
       "    <tbody>\n",
       "        <tr>\n",
       "            <td>tod_urban    </td> <td>52.7                 </td> <td>24.5                           </td> <td>62.9                      </td> <td>51.6                            </td> <td>7.26                           </td> <td>9.16                               </td> <td>8.94                               </td> <td>1.28                               </td>\n",
       "        </tr>\n",
       "        <tr>\n",
       "            <td>control_urban</td> <td>60.4                 </td> <td>13.8                           </td> <td>50                        </td> <td>66.7                            </td> <td>5.28                           </td> <td>5.83                               </td> <td>6.78                               </td> <td>1.25                               </td>\n",
       "        </tr>\n",
       "        <tr>\n",
       "            <td>tod_sub      </td> <td>72.6                 </td> <td>29.4                           </td> <td>68.8                      </td> <td>71.4                            </td> <td>6.89                           </td> <td>6.82                               </td> <td>22.16                              </td> <td>0.86                               </td>\n",
       "        </tr>\n",
       "        <tr>\n",
       "            <td>control_sub  </td> <td>77.7                 </td> <td>27.1                           </td> <td>85.7                      </td> <td>63.6                            </td> <td>7.83                           </td> <td>7.85                               </td> <td>12.87                              </td> <td>0.93                               </td>\n",
       "        </tr>\n",
       "    </tbody>\n",
       "</table>"
      ],
      "text/plain": [
       "Housing Type  | Percent Trips Driving | Percent Driving Trips Carpooled | Percent Work Trips Driving | Percent Recreation Trips Driving | Mean Distance of All Trips (km) | Mean Distance of Driving Trips (km) | Mean Distance of Transit Trips (km) | Mean Distance of Walking Trips (km)\n",
       "tod_urban     | 52.7                  | 24.5                            | 62.9                       | 51.6                             | 7.26                            | 9.16                                | 8.94                                | 1.28\n",
       "control_urban | 60.4                  | 13.8                            | 50                         | 66.7                             | 5.28                            | 5.83                                | 6.78                                | 1.25\n",
       "tod_sub       | 72.6                  | 29.4                            | 68.8                       | 71.4                             | 6.89                            | 6.82                                | 22.16                               | 0.86\n",
       "control_sub   | 77.7                  | 27.1                            | 85.7                       | 63.6                             | 7.83                            | 7.85                                | 12.87                               | 0.93"
      ]
     },
     "execution_count": 72,
     "metadata": {},
     "output_type": "execute_result"
    }
   ],
   "source": [
    "types = [tod_urban,control_urban,tod_sub,control_sub]\n",
    "labels = make_array('tod_urban','control_urban','tod_sub','control_sub')\n",
    "def agg_table_gen(types,labels):\n",
    "    drive = make_array()\n",
    "    carpool = make_array()\n",
    "    work = make_array()\n",
    "    rec = make_array()\n",
    "    dist = make_array()\n",
    "    car_dist = make_array()\n",
    "    tran_dist = make_array()\n",
    "    walk_dist = make_array()\n",
    "    for i in types:\n",
    "        drive = np.append(drive,drive_percent(i))\n",
    "        carpool = np.append(carpool,carpool_percent(i))\n",
    "        work = np.append(work,work_drive(i))\n",
    "        rec = np.append(rec,rec_drive(i))\n",
    "        dist = np.append(dist, mean_dist(i))\n",
    "        car_dist = np.append(car_dist, mean_car(i))\n",
    "        tran_dist = np.append(tran_dist, mean_transit(i))\n",
    "        walk_dist = np.append(walk_dist, mean_walk(i))\n",
    "    agg_table = Table().with_columns('Housing Type',labels,'Percent Trips Driving',np.round(drive*100,1),'Percent Driving Trips Carpooled',np.round(carpool*100,1),'Percent Work Trips Driving',np.round(work*100,1),'Percent Recreation Trips Driving',np.round(rec*100,1),'Mean Distance of All Trips (km)',np.round(dist,2),'Mean Distance of Driving Trips (km)',np.round(car_dist,2),'Mean Distance of Transit Trips (km)',np.round(tran_dist,2),'Mean Distance of Walking Trips (km)',np.round(walk_dist,2))    \n",
    "    return agg_table\n",
    "agg_table_gen(types,labels)"
   ]
  },
  {
   "cell_type": "code",
   "execution_count": 73,
   "metadata": {},
   "outputs": [
    {
     "data": {
      "text/html": [
       "<table border=\"1\" class=\"dataframe\">\n",
       "    <thead>\n",
       "        <tr>\n",
       "            <th>Housing Type</th> <th>Percent Trips Driving</th> <th>Percent Driving Trips Carpooled</th> <th>Percent Work Trips Driving</th> <th>Percent Recreation Trips Driving</th> <th>Mean Distance of All Trips (km)</th> <th>Mean Distance of Driving Trips (km)</th> <th>Mean Distance of Transit Trips (km)</th> <th>Mean Distance of Walking Trips (km)</th>\n",
       "        </tr>\n",
       "    </thead>\n",
       "    <tbody>\n",
       "        <tr>\n",
       "            <td>control     </td> <td>73.9                 </td> <td>24.7                           </td> <td>75.9                      </td> <td>64.3                            </td> <td>7.24                           </td> <td>7.47                               </td> <td>10.48                              </td> <td>1.02                               </td>\n",
       "        </tr>\n",
       "        <tr>\n",
       "            <td>tod         </td> <td>55.3                 </td> <td>25.3                           </td> <td>64                        </td> <td>53.6                            </td> <td>7.22                           </td> <td>8.78                               </td> <td>9.66                               </td> <td>1.24                               </td>\n",
       "        </tr>\n",
       "    </tbody>\n",
       "</table>"
      ],
      "text/plain": [
       "Housing Type | Percent Trips Driving | Percent Driving Trips Carpooled | Percent Work Trips Driving | Percent Recreation Trips Driving | Mean Distance of All Trips (km) | Mean Distance of Driving Trips (km) | Mean Distance of Transit Trips (km) | Mean Distance of Walking Trips (km)\n",
       "control      | 73.9                  | 24.7                            | 75.9                       | 64.3                             | 7.24                            | 7.47                                | 10.48                               | 1.02\n",
       "tod          | 55.3                  | 25.3                            | 64                         | 53.6                             | 7.22                            | 8.78                                | 9.66                                | 1.24"
      ]
     },
     "execution_count": 73,
     "metadata": {},
     "output_type": "execute_result"
    }
   ],
   "source": [
    "types2 = [control,tod]\n",
    "labels2 = ['control','tod']\n",
    "agg_table_gen(types2,labels2)"
   ]
  },
  {
   "cell_type": "code",
   "execution_count": 74,
   "metadata": {},
   "outputs": [
    {
     "data": {
      "text/html": [
       "<table border=\"1\" class=\"dataframe\">\n",
       "    <thead>\n",
       "        <tr>\n",
       "            <th>Housing Type</th> <th>Percent Trips Driving</th> <th>Percent Driving Trips Carpooled</th> <th>Percent Work Trips Driving</th> <th>Percent Recreation Trips Driving</th> <th>Mean Distance of All Trips (km)</th> <th>Mean Distance of Driving Trips (km)</th> <th>Mean Distance of Transit Trips (km)</th> <th>Mean Distance of Walking Trips (km)</th>\n",
       "        </tr>\n",
       "    </thead>\n",
       "    <tbody>\n",
       "        <tr>\n",
       "            <td>suburban    </td> <td>76.4                 </td> <td>27.7                           </td> <td>78.4                      </td> <td>66.7                            </td> <td>7.58                           </td> <td>7.6                                </td> <td>14.96                              </td> <td>0.9                                </td>\n",
       "        </tr>\n",
       "        <tr>\n",
       "            <td>urban       </td> <td>53.6                 </td> <td>23.2                           </td> <td>61.5                      </td> <td>52.3                            </td> <td>7.05                           </td> <td>8.75                               </td> <td>8.69                               </td> <td>1.28                               </td>\n",
       "        </tr>\n",
       "    </tbody>\n",
       "</table>"
      ],
      "text/plain": [
       "Housing Type | Percent Trips Driving | Percent Driving Trips Carpooled | Percent Work Trips Driving | Percent Recreation Trips Driving | Mean Distance of All Trips (km) | Mean Distance of Driving Trips (km) | Mean Distance of Transit Trips (km) | Mean Distance of Walking Trips (km)\n",
       "suburban     | 76.4                  | 27.7                            | 78.4                       | 66.7                             | 7.58                            | 7.6                                 | 14.96                               | 0.9\n",
       "urban        | 53.6                  | 23.2                            | 61.5                       | 52.3                             | 7.05                            | 8.75                                | 8.69                                | 1.28"
      ]
     },
     "execution_count": 74,
     "metadata": {},
     "output_type": "execute_result"
    }
   ],
   "source": [
    "types3 = [suburban,urban]\n",
    "labels3 = ['suburban','urban']\n",
    "agg_table_gen(types3,labels3)"
   ]
  },
  {
   "cell_type": "code",
   "execution_count": 10,
   "metadata": {},
   "outputs": [
    {
     "data": {
      "text/plain": [
       "7.223101460415066"
      ]
     },
     "execution_count": 10,
     "metadata": {},
     "output_type": "execute_result"
    }
   ],
   "source": [
    "np.mean(tl.where('Distance',are.below(9999)).column('Distance'))"
   ]
  },
  {
   "cell_type": "code",
   "execution_count": 11,
   "metadata": {},
   "outputs": [
    {
     "data": {
      "text/html": [
       "<table border=\"1\" class=\"dataframe\">\n",
       "    <thead>\n",
       "        <tr>\n",
       "            <th>Neighborhood Type</th> <th>Total number of trips</th> <th>Number of participants</th> <th>Average trips per participant</th>\n",
       "        </tr>\n",
       "    </thead>\n",
       "    <tbody>\n",
       "        <tr>\n",
       "            <td>tod_urban        </td> <td>789                  </td> <td>182                   </td> <td>4.34                         </td>\n",
       "        </tr>\n",
       "        <tr>\n",
       "            <td>control_urban    </td> <td>96                   </td> <td>19                    </td> <td>5.05                         </td>\n",
       "        </tr>\n",
       "        <tr>\n",
       "            <td>tod_sub          </td> <td>117                  </td> <td>24                    </td> <td>4.88                         </td>\n",
       "        </tr>\n",
       "        <tr>\n",
       "            <td>control_sub      </td> <td>337                  </td> <td>69                    </td> <td>4.88                         </td>\n",
       "        </tr>\n",
       "    </tbody>\n",
       "</table>"
      ],
      "text/plain": [
       "Neighborhood Type | Total number of trips | Number of participants | Average trips per participant\n",
       "tod_urban         | 789                   | 182                    | 4.34\n",
       "control_urban     | 96                    | 19                     | 5.05\n",
       "tod_sub           | 117                   | 24                     | 4.88\n",
       "control_sub       | 337                   | 69                     | 4.88"
      ]
     },
     "execution_count": 11,
     "metadata": {},
     "output_type": "execute_result"
    }
   ],
   "source": [
    "number_of_trips = make_array()\n",
    "for i in types:\n",
    "    number_of_trips = np.append(number_of_trips, i.num_rows)\n",
    "number_of_participants = make_array()\n",
    "for i in types:\n",
    "    number_of_participants = np.append(number_of_participants, i.group('Participant_ID').num_rows)\n",
    "avg_num_trips = number_of_trips/number_of_participants\n",
    "sum_table = Table().with_columns('Neighborhood Type',labels,'Total number of trips', number_of_trips,'Number of participants', number_of_participants,'Average trips per participant',np.round(avg_num_trips,2))\n",
    "sum_table"
   ]
  },
  {
   "cell_type": "code",
   "execution_count": 75,
   "metadata": {},
   "outputs": [
    {
     "data": {
      "text/html": [
       "<table border=\"1\" class=\"dataframe\">\n",
       "    <thead>\n",
       "        <tr>\n",
       "            <th>Housing Type</th> <th>Bus Percent</th> <th>Train Percent</th> <th>Shuttle Percent</th>\n",
       "        </tr>\n",
       "    </thead>\n",
       "    <tbody>\n",
       "        <tr>\n",
       "            <td>tod_urban    </td> <td>73.72      </td> <td>41.67        </td> <td>2.56           </td>\n",
       "        </tr>\n",
       "        <tr>\n",
       "            <td>control_urban</td> <td>85         </td> <td>15           </td> <td>0              </td>\n",
       "        </tr>\n",
       "        <tr>\n",
       "            <td>tod_sub      </td> <td>55.56      </td> <td>55.56        </td> <td>11.11          </td>\n",
       "        </tr>\n",
       "        <tr>\n",
       "            <td>control_sub  </td> <td>87.1       </td> <td>12.9         </td> <td>6.45           </td>\n",
       "        </tr>\n",
       "    </tbody>\n",
       "</table>"
      ],
      "text/plain": [
       "Housing Type  | Bus Percent | Train Percent | Shuttle Percent\n",
       "tod_urban     | 73.72       | 41.67         | 2.56\n",
       "control_urban | 85          | 15            | 0\n",
       "tod_sub       | 55.56       | 55.56         | 11.11\n",
       "control_sub   | 87.1        | 12.9          | 6.45"
      ]
     },
     "execution_count": 75,
     "metadata": {},
     "output_type": "execute_result"
    }
   ],
   "source": [
    "def transit_breakdown(mode):\n",
    "    mode_array = make_array()\n",
    "    for i in types:\n",
    "        transit = i.where('Transit',1)\n",
    "        mode_tot = sum(i.column(mode))\n",
    "        mode_array = np.append(mode_array,mode_tot/transit.num_rows)\n",
    "    return mode_array\n",
    "tran_table = Table().with_columns('Housing Type',labels,'Bus Percent',np.round(transit_breakdown('Bus')*100,2),'Train Percent',np.round(transit_breakdown('Train')*100,2),'Shuttle Percent',np.round(transit_breakdown('Shuttle')*100,2))\n",
    "tran_table"
   ]
  },
  {
   "cell_type": "markdown",
   "metadata": {},
   "source": [
    "## Statistical Significance Testing"
   ]
  },
  {
   "cell_type": "code",
   "execution_count": null,
   "metadata": {},
   "outputs": [],
   "source": [
    "#create a "
   ]
  },
  {
   "cell_type": "code",
   "execution_count": 51,
   "metadata": {},
   "outputs": [
    {
     "data": {
      "text/plain": [
       "6.942087782602879"
      ]
     },
     "execution_count": 51,
     "metadata": {},
     "output_type": "execute_result"
    }
   ],
   "source": [
    "def z_score(group1,group2,table_stat,function):\n",
    "    size1 = group1.num_rows\n",
    "    size2 = group2.num_rows\n",
    "    sd1 = np.std(group1.column(table_stat))\n",
    "    sd2 = np.std(group2.column(table_stat))\n",
    "    se_diff = ((sd1/(size1**.5))**2+(sd2/(size2**.5))**2)**.5\n",
    "    value1 = function(group1)\n",
    "    value2 = function(group2)\n",
    "    return (value2-value1)/se_diff\n",
    "z_score(tod,control,'Drove_all',drive_percent)"
   ]
  },
  {
   "cell_type": "code",
   "execution_count": 78,
   "metadata": {},
   "outputs": [
    {
     "data": {
      "text/plain": [
       "8.78518802620414"
      ]
     },
     "execution_count": 78,
     "metadata": {},
     "output_type": "execute_result"
    }
   ],
   "source": [
    "z_score(urban,suburban,'Drove_all',drive_percent)"
   ]
  },
  {
   "cell_type": "code",
   "execution_count": 81,
   "metadata": {},
   "outputs": [
    {
     "data": {
      "text/plain": [
       "1.4517667329801647"
      ]
     },
     "execution_count": 81,
     "metadata": {},
     "output_type": "execute_result"
    }
   ],
   "source": [
    "z_score(tod_urban,control_urban,'Drove_all',drive_percent)"
   ]
  },
  {
   "cell_type": "code",
   "execution_count": 97,
   "metadata": {},
   "outputs": [
    {
     "data": {
      "text/html": [
       "<table border=\"1\" class=\"dataframe\">\n",
       "    <thead>\n",
       "        <tr>\n",
       "            <th>Type</th> <th>tod_urban</th> <th>control_urban</th> <th>tod_sub</th> <th>control_sub</th>\n",
       "        </tr>\n",
       "    </thead>\n",
       "    <tbody>\n",
       "        <tr>\n",
       "            <td>tod_urban    </td> <td>0        </td> <td>-1.45177     </td> <td>-4.43954</td> <td>-8.68799   </td>\n",
       "        </tr>\n",
       "        <tr>\n",
       "            <td>control_urban</td> <td>1.45177  </td> <td>0            </td> <td>-1.88996</td> <td>-3.16127   </td>\n",
       "        </tr>\n",
       "        <tr>\n",
       "            <td>tod_sub      </td> <td>4.43954  </td> <td>1.88996      </td> <td>0       </td> <td>-1.08343   </td>\n",
       "        </tr>\n",
       "        <tr>\n",
       "            <td>control_sub  </td> <td>8.68799  </td> <td>3.16127      </td> <td>1.08343 </td> <td>0          </td>\n",
       "        </tr>\n",
       "    </tbody>\n",
       "</table>"
      ],
      "text/plain": [
       "Type          | tod_urban | control_urban | tod_sub  | control_sub\n",
       "tod_urban     | 0         | -1.45177      | -4.43954 | -8.68799\n",
       "control_urban | 1.45177   | 0             | -1.88996 | -3.16127\n",
       "tod_sub       | 4.43954   | 1.88996       | 0        | -1.08343\n",
       "control_sub   | 8.68799   | 3.16127       | 1.08343  | 0"
      ]
     },
     "execution_count": 97,
     "metadata": {},
     "output_type": "execute_result"
    }
   ],
   "source": [
    "def z_matrix(table_stat,function):\n",
    "    z_table = Table().with_column('Type',labels)\n",
    "    for i in np.arange(len(labels)):\n",
    "        z_values =[]\n",
    "        for j in types:\n",
    "            z_values = np.append(z_score(types[i],j,table_stat,function),z_values)\n",
    "        z_table = z_table.with_column(labels[i],z_values[::-1])\n",
    "    return z_table\n",
    "z_matrix('Drove_all',drive_percent)"
   ]
  },
  {
   "cell_type": "code",
   "execution_count": 98,
   "metadata": {
    "scrolled": true
   },
   "outputs": [
    {
     "data": {
      "text/html": [
       "<table border=\"1\" class=\"dataframe\">\n",
       "    <thead>\n",
       "        <tr>\n",
       "            <th>Type</th> <th>tod_urban</th> <th>control_urban</th> <th>tod_sub</th> <th>control_sub</th>\n",
       "        </tr>\n",
       "    </thead>\n",
       "    <tbody>\n",
       "        <tr>\n",
       "            <td>tod_urban    </td> <td>0          </td> <td>0.0176775    </td> <td>0.00192238</td> <td>-0.00417774</td>\n",
       "        </tr>\n",
       "        <tr>\n",
       "            <td>control_urban</td> <td>-0.0176775 </td> <td>0            </td> <td>-0.0075697</td> <td>-0.0154628 </td>\n",
       "        </tr>\n",
       "        <tr>\n",
       "            <td>tod_sub      </td> <td>-0.00192238</td> <td>0.0075697    </td> <td>0         </td> <td>-0.00412659</td>\n",
       "        </tr>\n",
       "        <tr>\n",
       "            <td>control_sub  </td> <td>0.00417774 </td> <td>0.0154628    </td> <td>0.00412659</td> <td>0          </td>\n",
       "        </tr>\n",
       "    </tbody>\n",
       "</table>"
      ],
      "text/plain": [
       "Type          | tod_urban   | control_urban | tod_sub    | control_sub\n",
       "tod_urban     | 0           | 0.0176775     | 0.00192238 | -0.00417774\n",
       "control_urban | -0.0176775  | 0             | -0.0075697 | -0.0154628\n",
       "tod_sub       | -0.00192238 | 0.0075697     | 0          | -0.00412659\n",
       "control_sub   | 0.00417774  | 0.0154628     | 0.00412659 | 0"
      ]
     },
     "execution_count": 98,
     "metadata": {},
     "output_type": "execute_result"
    }
   ],
   "source": [
    "z_matrix('Distance',mean_dist)"
   ]
  },
  {
   "cell_type": "code",
   "execution_count": 99,
   "metadata": {},
   "outputs": [
    {
     "data": {
      "text/html": [
       "<table border=\"1\" class=\"dataframe\">\n",
       "    <thead>\n",
       "        <tr>\n",
       "            <th>Type</th> <th>tod_urban</th> <th>control_urban</th> <th>tod_sub</th> <th>control_sub</th>\n",
       "        </tr>\n",
       "    </thead>\n",
       "    <tbody>\n",
       "        <tr>\n",
       "            <td>tod_urban    </td> <td>0        </td> <td>3.50149      </td> <td>-1.23135 </td> <td>-1.02294   </td>\n",
       "        </tr>\n",
       "        <tr>\n",
       "            <td>control_urban</td> <td>-3.50149 </td> <td>0            </td> <td>-3.30612 </td> <td>-3.70592   </td>\n",
       "        </tr>\n",
       "        <tr>\n",
       "            <td>tod_sub      </td> <td>1.23135  </td> <td>3.30612      </td> <td>0        </td> <td>0.526458   </td>\n",
       "        </tr>\n",
       "        <tr>\n",
       "            <td>control_sub  </td> <td>1.02294  </td> <td>3.70592      </td> <td>-0.526458</td> <td>0          </td>\n",
       "        </tr>\n",
       "    </tbody>\n",
       "</table>"
      ],
      "text/plain": [
       "Type          | tod_urban | control_urban | tod_sub   | control_sub\n",
       "tod_urban     | 0         | 3.50149       | -1.23135  | -1.02294\n",
       "control_urban | -3.50149  | 0             | -3.30612  | -3.70592\n",
       "tod_sub       | 1.23135   | 3.30612       | 0         | 0.526458\n",
       "control_sub   | 1.02294   | 3.70592       | -0.526458 | 0"
      ]
     },
     "execution_count": 99,
     "metadata": {},
     "output_type": "execute_result"
    }
   ],
   "source": [
    "z_matrix('Drove_Share',carpool_percent)"
   ]
  },
  {
   "cell_type": "code",
   "execution_count": 19,
   "metadata": {},
   "outputs": [],
   "source": [
    "agg_table.to_csv('TOD_type_agg_table.csv')"
   ]
  },
  {
   "cell_type": "code",
   "execution_count": 24,
   "metadata": {},
   "outputs": [],
   "source": [
    "sum_table.to_csv('TOD_type_sum_table.csv')"
   ]
  },
  {
   "cell_type": "code",
   "execution_count": 25,
   "metadata": {},
   "outputs": [],
   "source": [
    "tran_table.to_csv('TOD_type_tran_table.csv')"
   ]
  }
 ],
 "metadata": {
  "kernelspec": {
   "display_name": "Python 3",
   "language": "python",
   "name": "python3"
  },
  "language_info": {
   "codemirror_mode": {
    "name": "ipython",
    "version": 3
   },
   "file_extension": ".py",
   "mimetype": "text/x-python",
   "name": "python",
   "nbconvert_exporter": "python",
   "pygments_lexer": "ipython3",
   "version": "3.6.5"
  }
 },
 "nbformat": 4,
 "nbformat_minor": 2
}
